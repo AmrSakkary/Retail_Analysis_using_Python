{
  "nbformat": 4,
  "nbformat_minor": 0,
  "metadata": {
    "colab": {
      "provenance": [],
      "authorship_tag": "ABX9TyMqDGZyUa0y/VBh0BH2UqST",
      "include_colab_link": true
    },
    "kernelspec": {
      "name": "python3",
      "display_name": "Python 3"
    },
    "language_info": {
      "name": "python"
    }
  },
  "cells": [
    {
      "cell_type": "markdown",
      "metadata": {
        "id": "view-in-github",
        "colab_type": "text"
      },
      "source": [
        "<a href=\"https://colab.research.google.com/github/AmrSakkary/Retail_Analysis_using_Python/blob/main/budget_revenue.ipynb\" target=\"_parent\"><img src=\"https://colab.research.google.com/assets/colab-badge.svg\" alt=\"Open In Colab\"/></a>"
      ]
    },
    {
      "cell_type": "markdown",
      "source": [
        "## Retail Data:\n",
        "This dataset encompasses details on sales transactions, salesperson profiles, product information, and the allocated budget for each specific period. It includes crucial attributes such as salesperson ID, product categories, and targeted budget values, offering a comprehensive view of retail operations and financial planning.\n",
        "\n",
        "### Analysis purpose:\n",
        "\n",
        "* Evaluat the sales teams and checking when was the target budget met.\n",
        "\n",
        "* Check top managers' performance\n",
        "\n",
        "* Check top products based on sales and quantity ordered.\n",
        "\n",
        "    "
      ],
      "metadata": {
        "id": "HFQaJ0Yyjt9g"
      }
    },
    {
      "cell_type": "code",
      "execution_count": null,
      "metadata": {
        "id": "P5YsLhuckx20"
      },
      "outputs": [],
      "source": [
        "import pandas as pd\n",
        "import seaborn as sns\n",
        "import matplotlib.pyplot as plt\n",
        "import numpy as np\n",
        "sns.set_style('darkgrid')"
      ]
    },
    {
      "cell_type": "markdown",
      "source": [
        "## Data Cleaning Phase"
      ],
      "metadata": {
        "id": "yYpaIuiRsD47"
      }
    },
    {
      "cell_type": "code",
      "source": [
        "# function to clean the budget table\n",
        "# and set it to the right format\n",
        "def clean_budget(sheet_no):\n",
        "    if sheet_no == 0:\n",
        "        year = 2019\n",
        "    elif sheet_no == 1:\n",
        "        year = 2020\n",
        "    else:\n",
        "        year = 2021\n",
        "    # loading the data\n",
        "    budget = pd.read_excel('raw_data/Budget.xlsx', sheet_name=[sheet_no],\n",
        "                            skiprows=2,\n",
        "                            header=[0],\n",
        "                            )\n",
        "    # transforming\n",
        "    budget = (budget[sheet_no].drop(index = 12, columns = 'Unnamed: 13')\n",
        "            .melt(id_vars='SalespersonID',\n",
        "                  value_name= 'budget_amount',\n",
        "                  var_name='month'\n",
        "                  )\n",
        "            .dropna()\n",
        "            )\n",
        "    # creating date column using year and month\n",
        "    budget['year'] = year\n",
        "    budget['date'] = budget.year.astype('str') + '-' + budget.month.astype('str')\n",
        "    budget.date = pd.to_datetime(budget.date)\n",
        "    budget['quarter'] = budget.date.dt.quarter\n",
        "\n",
        "    # final data table\n",
        "    budget = budget[['SalespersonID', 'date', 'budget_amount', 'year', 'quarter']]\n",
        "\n",
        "    return budget"
      ],
      "metadata": {
        "id": "wBQiymmVlA9T"
      },
      "execution_count": null,
      "outputs": []
    },
    {
      "cell_type": "code",
      "source": [
        "budget_data = pd.concat(\n",
        "    [clean_budget(0), clean_budget(1), clean_budget(2)],\n",
        "    axis = 0\n",
        ")\n",
        "\n",
        "budget_data.head()"
      ],
      "metadata": {
        "colab": {
          "base_uri": "https://localhost:8080/",
          "height": 206
        },
        "id": "UhMZMKqSrItV",
        "outputId": "15716a98-50c7-4bda-9aec-44d9aa8db435"
      },
      "execution_count": null,
      "outputs": [
        {
          "output_type": "execute_result",
          "data": {
            "text/plain": [
              "  SalespersonID       date  budget_amount  year  quarter\n",
              "1           125 2019-01-01    9016.031000  2019        1\n",
              "2           144 2019-01-01    9870.923721  2019        1\n",
              "3           183 2019-01-01    1394.216707  2019        1\n",
              "5           196 2019-01-01    2270.020511  2019        1\n",
              "6           215 2019-01-01    5347.775816  2019        1"
            ],
            "text/html": [
              "\n",
              "  <div id=\"df-4e88fe99-9e83-44de-861d-b537f0b3ad87\" class=\"colab-df-container\">\n",
              "    <div>\n",
              "<style scoped>\n",
              "    .dataframe tbody tr th:only-of-type {\n",
              "        vertical-align: middle;\n",
              "    }\n",
              "\n",
              "    .dataframe tbody tr th {\n",
              "        vertical-align: top;\n",
              "    }\n",
              "\n",
              "    .dataframe thead th {\n",
              "        text-align: right;\n",
              "    }\n",
              "</style>\n",
              "<table border=\"1\" class=\"dataframe\">\n",
              "  <thead>\n",
              "    <tr style=\"text-align: right;\">\n",
              "      <th></th>\n",
              "      <th>SalespersonID</th>\n",
              "      <th>date</th>\n",
              "      <th>budget_amount</th>\n",
              "      <th>year</th>\n",
              "      <th>quarter</th>\n",
              "    </tr>\n",
              "  </thead>\n",
              "  <tbody>\n",
              "    <tr>\n",
              "      <th>1</th>\n",
              "      <td>125</td>\n",
              "      <td>2019-01-01</td>\n",
              "      <td>9016.031000</td>\n",
              "      <td>2019</td>\n",
              "      <td>1</td>\n",
              "    </tr>\n",
              "    <tr>\n",
              "      <th>2</th>\n",
              "      <td>144</td>\n",
              "      <td>2019-01-01</td>\n",
              "      <td>9870.923721</td>\n",
              "      <td>2019</td>\n",
              "      <td>1</td>\n",
              "    </tr>\n",
              "    <tr>\n",
              "      <th>3</th>\n",
              "      <td>183</td>\n",
              "      <td>2019-01-01</td>\n",
              "      <td>1394.216707</td>\n",
              "      <td>2019</td>\n",
              "      <td>1</td>\n",
              "    </tr>\n",
              "    <tr>\n",
              "      <th>5</th>\n",
              "      <td>196</td>\n",
              "      <td>2019-01-01</td>\n",
              "      <td>2270.020511</td>\n",
              "      <td>2019</td>\n",
              "      <td>1</td>\n",
              "    </tr>\n",
              "    <tr>\n",
              "      <th>6</th>\n",
              "      <td>215</td>\n",
              "      <td>2019-01-01</td>\n",
              "      <td>5347.775816</td>\n",
              "      <td>2019</td>\n",
              "      <td>1</td>\n",
              "    </tr>\n",
              "  </tbody>\n",
              "</table>\n",
              "</div>\n",
              "    <div class=\"colab-df-buttons\">\n",
              "\n",
              "  <div class=\"colab-df-container\">\n",
              "    <button class=\"colab-df-convert\" onclick=\"convertToInteractive('df-4e88fe99-9e83-44de-861d-b537f0b3ad87')\"\n",
              "            title=\"Convert this dataframe to an interactive table.\"\n",
              "            style=\"display:none;\">\n",
              "\n",
              "  <svg xmlns=\"http://www.w3.org/2000/svg\" height=\"24px\" viewBox=\"0 -960 960 960\">\n",
              "    <path d=\"M120-120v-720h720v720H120Zm60-500h600v-160H180v160Zm220 220h160v-160H400v160Zm0 220h160v-160H400v160ZM180-400h160v-160H180v160Zm440 0h160v-160H620v160ZM180-180h160v-160H180v160Zm440 0h160v-160H620v160Z\"/>\n",
              "  </svg>\n",
              "    </button>\n",
              "\n",
              "  <style>\n",
              "    .colab-df-container {\n",
              "      display:flex;\n",
              "      gap: 12px;\n",
              "    }\n",
              "\n",
              "    .colab-df-convert {\n",
              "      background-color: #E8F0FE;\n",
              "      border: none;\n",
              "      border-radius: 50%;\n",
              "      cursor: pointer;\n",
              "      display: none;\n",
              "      fill: #1967D2;\n",
              "      height: 32px;\n",
              "      padding: 0 0 0 0;\n",
              "      width: 32px;\n",
              "    }\n",
              "\n",
              "    .colab-df-convert:hover {\n",
              "      background-color: #E2EBFA;\n",
              "      box-shadow: 0px 1px 2px rgba(60, 64, 67, 0.3), 0px 1px 3px 1px rgba(60, 64, 67, 0.15);\n",
              "      fill: #174EA6;\n",
              "    }\n",
              "\n",
              "    .colab-df-buttons div {\n",
              "      margin-bottom: 4px;\n",
              "    }\n",
              "\n",
              "    [theme=dark] .colab-df-convert {\n",
              "      background-color: #3B4455;\n",
              "      fill: #D2E3FC;\n",
              "    }\n",
              "\n",
              "    [theme=dark] .colab-df-convert:hover {\n",
              "      background-color: #434B5C;\n",
              "      box-shadow: 0px 1px 3px 1px rgba(0, 0, 0, 0.15);\n",
              "      filter: drop-shadow(0px 1px 2px rgba(0, 0, 0, 0.3));\n",
              "      fill: #FFFFFF;\n",
              "    }\n",
              "  </style>\n",
              "\n",
              "    <script>\n",
              "      const buttonEl =\n",
              "        document.querySelector('#df-4e88fe99-9e83-44de-861d-b537f0b3ad87 button.colab-df-convert');\n",
              "      buttonEl.style.display =\n",
              "        google.colab.kernel.accessAllowed ? 'block' : 'none';\n",
              "\n",
              "      async function convertToInteractive(key) {\n",
              "        const element = document.querySelector('#df-4e88fe99-9e83-44de-861d-b537f0b3ad87');\n",
              "        const dataTable =\n",
              "          await google.colab.kernel.invokeFunction('convertToInteractive',\n",
              "                                                    [key], {});\n",
              "        if (!dataTable) return;\n",
              "\n",
              "        const docLinkHtml = 'Like what you see? Visit the ' +\n",
              "          '<a target=\"_blank\" href=https://colab.research.google.com/notebooks/data_table.ipynb>data table notebook</a>'\n",
              "          + ' to learn more about interactive tables.';\n",
              "        element.innerHTML = '';\n",
              "        dataTable['output_type'] = 'display_data';\n",
              "        await google.colab.output.renderOutput(dataTable, element);\n",
              "        const docLink = document.createElement('div');\n",
              "        docLink.innerHTML = docLinkHtml;\n",
              "        element.appendChild(docLink);\n",
              "      }\n",
              "    </script>\n",
              "  </div>\n",
              "\n",
              "\n",
              "<div id=\"df-49a24320-13c8-49c0-88a8-402501325a3a\">\n",
              "  <button class=\"colab-df-quickchart\" onclick=\"quickchart('df-49a24320-13c8-49c0-88a8-402501325a3a')\"\n",
              "            title=\"Suggest charts\"\n",
              "            style=\"display:none;\">\n",
              "\n",
              "<svg xmlns=\"http://www.w3.org/2000/svg\" height=\"24px\"viewBox=\"0 0 24 24\"\n",
              "     width=\"24px\">\n",
              "    <g>\n",
              "        <path d=\"M19 3H5c-1.1 0-2 .9-2 2v14c0 1.1.9 2 2 2h14c1.1 0 2-.9 2-2V5c0-1.1-.9-2-2-2zM9 17H7v-7h2v7zm4 0h-2V7h2v10zm4 0h-2v-4h2v4z\"/>\n",
              "    </g>\n",
              "</svg>\n",
              "  </button>\n",
              "\n",
              "<style>\n",
              "  .colab-df-quickchart {\n",
              "      --bg-color: #E8F0FE;\n",
              "      --fill-color: #1967D2;\n",
              "      --hover-bg-color: #E2EBFA;\n",
              "      --hover-fill-color: #174EA6;\n",
              "      --disabled-fill-color: #AAA;\n",
              "      --disabled-bg-color: #DDD;\n",
              "  }\n",
              "\n",
              "  [theme=dark] .colab-df-quickchart {\n",
              "      --bg-color: #3B4455;\n",
              "      --fill-color: #D2E3FC;\n",
              "      --hover-bg-color: #434B5C;\n",
              "      --hover-fill-color: #FFFFFF;\n",
              "      --disabled-bg-color: #3B4455;\n",
              "      --disabled-fill-color: #666;\n",
              "  }\n",
              "\n",
              "  .colab-df-quickchart {\n",
              "    background-color: var(--bg-color);\n",
              "    border: none;\n",
              "    border-radius: 50%;\n",
              "    cursor: pointer;\n",
              "    display: none;\n",
              "    fill: var(--fill-color);\n",
              "    height: 32px;\n",
              "    padding: 0;\n",
              "    width: 32px;\n",
              "  }\n",
              "\n",
              "  .colab-df-quickchart:hover {\n",
              "    background-color: var(--hover-bg-color);\n",
              "    box-shadow: 0 1px 2px rgba(60, 64, 67, 0.3), 0 1px 3px 1px rgba(60, 64, 67, 0.15);\n",
              "    fill: var(--button-hover-fill-color);\n",
              "  }\n",
              "\n",
              "  .colab-df-quickchart-complete:disabled,\n",
              "  .colab-df-quickchart-complete:disabled:hover {\n",
              "    background-color: var(--disabled-bg-color);\n",
              "    fill: var(--disabled-fill-color);\n",
              "    box-shadow: none;\n",
              "  }\n",
              "\n",
              "  .colab-df-spinner {\n",
              "    border: 2px solid var(--fill-color);\n",
              "    border-color: transparent;\n",
              "    border-bottom-color: var(--fill-color);\n",
              "    animation:\n",
              "      spin 1s steps(1) infinite;\n",
              "  }\n",
              "\n",
              "  @keyframes spin {\n",
              "    0% {\n",
              "      border-color: transparent;\n",
              "      border-bottom-color: var(--fill-color);\n",
              "      border-left-color: var(--fill-color);\n",
              "    }\n",
              "    20% {\n",
              "      border-color: transparent;\n",
              "      border-left-color: var(--fill-color);\n",
              "      border-top-color: var(--fill-color);\n",
              "    }\n",
              "    30% {\n",
              "      border-color: transparent;\n",
              "      border-left-color: var(--fill-color);\n",
              "      border-top-color: var(--fill-color);\n",
              "      border-right-color: var(--fill-color);\n",
              "    }\n",
              "    40% {\n",
              "      border-color: transparent;\n",
              "      border-right-color: var(--fill-color);\n",
              "      border-top-color: var(--fill-color);\n",
              "    }\n",
              "    60% {\n",
              "      border-color: transparent;\n",
              "      border-right-color: var(--fill-color);\n",
              "    }\n",
              "    80% {\n",
              "      border-color: transparent;\n",
              "      border-right-color: var(--fill-color);\n",
              "      border-bottom-color: var(--fill-color);\n",
              "    }\n",
              "    90% {\n",
              "      border-color: transparent;\n",
              "      border-bottom-color: var(--fill-color);\n",
              "    }\n",
              "  }\n",
              "</style>\n",
              "\n",
              "  <script>\n",
              "    async function quickchart(key) {\n",
              "      const quickchartButtonEl =\n",
              "        document.querySelector('#' + key + ' button');\n",
              "      quickchartButtonEl.disabled = true;  // To prevent multiple clicks.\n",
              "      quickchartButtonEl.classList.add('colab-df-spinner');\n",
              "      try {\n",
              "        const charts = await google.colab.kernel.invokeFunction(\n",
              "            'suggestCharts', [key], {});\n",
              "      } catch (error) {\n",
              "        console.error('Error during call to suggestCharts:', error);\n",
              "      }\n",
              "      quickchartButtonEl.classList.remove('colab-df-spinner');\n",
              "      quickchartButtonEl.classList.add('colab-df-quickchart-complete');\n",
              "    }\n",
              "    (() => {\n",
              "      let quickchartButtonEl =\n",
              "        document.querySelector('#df-49a24320-13c8-49c0-88a8-402501325a3a button');\n",
              "      quickchartButtonEl.style.display =\n",
              "        google.colab.kernel.accessAllowed ? 'block' : 'none';\n",
              "    })();\n",
              "  </script>\n",
              "</div>\n",
              "\n",
              "    </div>\n",
              "  </div>\n"
            ],
            "application/vnd.google.colaboratory.intrinsic+json": {
              "type": "dataframe",
              "variable_name": "budget_data",
              "repr_error": "'str' object has no attribute 'empty'"
            }
          },
          "metadata": {},
          "execution_count": 70
        }
      ]
    },
    {
      "cell_type": "code",
      "source": [
        "budget_data.info()"
      ],
      "metadata": {
        "colab": {
          "base_uri": "https://localhost:8080/"
        },
        "id": "7T9zafwEzlpi",
        "outputId": "c0840ebf-c0b6-41b8-9ec3-d8189644edac"
      },
      "execution_count": null,
      "outputs": [
        {
          "output_type": "stream",
          "name": "stdout",
          "text": [
            "<class 'pandas.core.frame.DataFrame'>\n",
            "Int64Index: 241 entries, 1 to 35\n",
            "Data columns (total 5 columns):\n",
            " #   Column         Non-Null Count  Dtype         \n",
            "---  ------         --------------  -----         \n",
            " 0   SalespersonID  241 non-null    object        \n",
            " 1   date           241 non-null    datetime64[ns]\n",
            " 2   budget_amount  241 non-null    float64       \n",
            " 3   year           241 non-null    int64         \n",
            " 4   quarter        241 non-null    int64         \n",
            "dtypes: datetime64[ns](1), float64(1), int64(2), object(1)\n",
            "memory usage: 11.3+ KB\n"
          ]
        }
      ]
    },
    {
      "cell_type": "code",
      "source": [
        "sales = pd.read_excel('/content/SalesData.xlsx', skiprows=4)"
      ],
      "metadata": {
        "id": "68AOUhvZsypg"
      },
      "execution_count": null,
      "outputs": []
    },
    {
      "cell_type": "code",
      "source": [
        "sales.OrderDate = pd.to_datetime(sales.OrderDate)"
      ],
      "metadata": {
        "id": "Q6n-lXmgwfGY"
      },
      "execution_count": null,
      "outputs": []
    },
    {
      "cell_type": "code",
      "source": [
        "sales = sales.assign(\n",
        "    total_revenue = sales.Quantity * sales.UnitPrice,\n",
        "    year = sales.OrderDate.dt.year,\n",
        "    quarter = sales.OrderDate.dt.quarter\n",
        ")\n",
        "\n",
        "sales.head(2)"
      ],
      "metadata": {
        "colab": {
          "base_uri": "https://localhost:8080/",
          "height": 167
        },
        "id": "fCg3j6wDtza0",
        "outputId": "71728fb9-fe5f-4247-8c14-8ffb8e711929"
      },
      "execution_count": null,
      "outputs": [
        {
          "output_type": "execute_result",
          "data": {
            "text/plain": [
              "   OrderDate  OrderNumber  ProductKey  SalespersonKey Salesperson  \\\n",
              "0 2019-01-12      1492762        1420             265  Julio Lima   \n",
              "1 2019-01-12      1492762        1073             265  Julio Lima   \n",
              "\n",
              "       Supervisor          Manager      Channel  Quantity  UnitPrice  \\\n",
              "0  Diogo Carvalho  Gabriel Azevedo  Distributor         6       4.44   \n",
              "1  Diogo Carvalho  Gabriel Azevedo  Distributor         6       8.83   \n",
              "\n",
              "   total_revenue  year  quarter  \n",
              "0          26.64  2019        1  \n",
              "1          52.98  2019        1  "
            ],
            "text/html": [
              "\n",
              "  <div id=\"df-ee6720d1-f2c3-4906-ae7b-6897d9daf9ed\" class=\"colab-df-container\">\n",
              "    <div>\n",
              "<style scoped>\n",
              "    .dataframe tbody tr th:only-of-type {\n",
              "        vertical-align: middle;\n",
              "    }\n",
              "\n",
              "    .dataframe tbody tr th {\n",
              "        vertical-align: top;\n",
              "    }\n",
              "\n",
              "    .dataframe thead th {\n",
              "        text-align: right;\n",
              "    }\n",
              "</style>\n",
              "<table border=\"1\" class=\"dataframe\">\n",
              "  <thead>\n",
              "    <tr style=\"text-align: right;\">\n",
              "      <th></th>\n",
              "      <th>OrderDate</th>\n",
              "      <th>OrderNumber</th>\n",
              "      <th>ProductKey</th>\n",
              "      <th>SalespersonKey</th>\n",
              "      <th>Salesperson</th>\n",
              "      <th>Supervisor</th>\n",
              "      <th>Manager</th>\n",
              "      <th>Channel</th>\n",
              "      <th>Quantity</th>\n",
              "      <th>UnitPrice</th>\n",
              "      <th>total_revenue</th>\n",
              "      <th>year</th>\n",
              "      <th>quarter</th>\n",
              "    </tr>\n",
              "  </thead>\n",
              "  <tbody>\n",
              "    <tr>\n",
              "      <th>0</th>\n",
              "      <td>2019-01-12</td>\n",
              "      <td>1492762</td>\n",
              "      <td>1420</td>\n",
              "      <td>265</td>\n",
              "      <td>Julio Lima</td>\n",
              "      <td>Diogo Carvalho</td>\n",
              "      <td>Gabriel Azevedo</td>\n",
              "      <td>Distributor</td>\n",
              "      <td>6</td>\n",
              "      <td>4.44</td>\n",
              "      <td>26.64</td>\n",
              "      <td>2019</td>\n",
              "      <td>1</td>\n",
              "    </tr>\n",
              "    <tr>\n",
              "      <th>1</th>\n",
              "      <td>2019-01-12</td>\n",
              "      <td>1492762</td>\n",
              "      <td>1073</td>\n",
              "      <td>265</td>\n",
              "      <td>Julio Lima</td>\n",
              "      <td>Diogo Carvalho</td>\n",
              "      <td>Gabriel Azevedo</td>\n",
              "      <td>Distributor</td>\n",
              "      <td>6</td>\n",
              "      <td>8.83</td>\n",
              "      <td>52.98</td>\n",
              "      <td>2019</td>\n",
              "      <td>1</td>\n",
              "    </tr>\n",
              "  </tbody>\n",
              "</table>\n",
              "</div>\n",
              "    <div class=\"colab-df-buttons\">\n",
              "\n",
              "  <div class=\"colab-df-container\">\n",
              "    <button class=\"colab-df-convert\" onclick=\"convertToInteractive('df-ee6720d1-f2c3-4906-ae7b-6897d9daf9ed')\"\n",
              "            title=\"Convert this dataframe to an interactive table.\"\n",
              "            style=\"display:none;\">\n",
              "\n",
              "  <svg xmlns=\"http://www.w3.org/2000/svg\" height=\"24px\" viewBox=\"0 -960 960 960\">\n",
              "    <path d=\"M120-120v-720h720v720H120Zm60-500h600v-160H180v160Zm220 220h160v-160H400v160Zm0 220h160v-160H400v160ZM180-400h160v-160H180v160Zm440 0h160v-160H620v160ZM180-180h160v-160H180v160Zm440 0h160v-160H620v160Z\"/>\n",
              "  </svg>\n",
              "    </button>\n",
              "\n",
              "  <style>\n",
              "    .colab-df-container {\n",
              "      display:flex;\n",
              "      gap: 12px;\n",
              "    }\n",
              "\n",
              "    .colab-df-convert {\n",
              "      background-color: #E8F0FE;\n",
              "      border: none;\n",
              "      border-radius: 50%;\n",
              "      cursor: pointer;\n",
              "      display: none;\n",
              "      fill: #1967D2;\n",
              "      height: 32px;\n",
              "      padding: 0 0 0 0;\n",
              "      width: 32px;\n",
              "    }\n",
              "\n",
              "    .colab-df-convert:hover {\n",
              "      background-color: #E2EBFA;\n",
              "      box-shadow: 0px 1px 2px rgba(60, 64, 67, 0.3), 0px 1px 3px 1px rgba(60, 64, 67, 0.15);\n",
              "      fill: #174EA6;\n",
              "    }\n",
              "\n",
              "    .colab-df-buttons div {\n",
              "      margin-bottom: 4px;\n",
              "    }\n",
              "\n",
              "    [theme=dark] .colab-df-convert {\n",
              "      background-color: #3B4455;\n",
              "      fill: #D2E3FC;\n",
              "    }\n",
              "\n",
              "    [theme=dark] .colab-df-convert:hover {\n",
              "      background-color: #434B5C;\n",
              "      box-shadow: 0px 1px 3px 1px rgba(0, 0, 0, 0.15);\n",
              "      filter: drop-shadow(0px 1px 2px rgba(0, 0, 0, 0.3));\n",
              "      fill: #FFFFFF;\n",
              "    }\n",
              "  </style>\n",
              "\n",
              "    <script>\n",
              "      const buttonEl =\n",
              "        document.querySelector('#df-ee6720d1-f2c3-4906-ae7b-6897d9daf9ed button.colab-df-convert');\n",
              "      buttonEl.style.display =\n",
              "        google.colab.kernel.accessAllowed ? 'block' : 'none';\n",
              "\n",
              "      async function convertToInteractive(key) {\n",
              "        const element = document.querySelector('#df-ee6720d1-f2c3-4906-ae7b-6897d9daf9ed');\n",
              "        const dataTable =\n",
              "          await google.colab.kernel.invokeFunction('convertToInteractive',\n",
              "                                                    [key], {});\n",
              "        if (!dataTable) return;\n",
              "\n",
              "        const docLinkHtml = 'Like what you see? Visit the ' +\n",
              "          '<a target=\"_blank\" href=https://colab.research.google.com/notebooks/data_table.ipynb>data table notebook</a>'\n",
              "          + ' to learn more about interactive tables.';\n",
              "        element.innerHTML = '';\n",
              "        dataTable['output_type'] = 'display_data';\n",
              "        await google.colab.output.renderOutput(dataTable, element);\n",
              "        const docLink = document.createElement('div');\n",
              "        docLink.innerHTML = docLinkHtml;\n",
              "        element.appendChild(docLink);\n",
              "      }\n",
              "    </script>\n",
              "  </div>\n",
              "\n",
              "\n",
              "<div id=\"df-18491470-5d8c-49bf-a428-92c944aa590d\">\n",
              "  <button class=\"colab-df-quickchart\" onclick=\"quickchart('df-18491470-5d8c-49bf-a428-92c944aa590d')\"\n",
              "            title=\"Suggest charts\"\n",
              "            style=\"display:none;\">\n",
              "\n",
              "<svg xmlns=\"http://www.w3.org/2000/svg\" height=\"24px\"viewBox=\"0 0 24 24\"\n",
              "     width=\"24px\">\n",
              "    <g>\n",
              "        <path d=\"M19 3H5c-1.1 0-2 .9-2 2v14c0 1.1.9 2 2 2h14c1.1 0 2-.9 2-2V5c0-1.1-.9-2-2-2zM9 17H7v-7h2v7zm4 0h-2V7h2v10zm4 0h-2v-4h2v4z\"/>\n",
              "    </g>\n",
              "</svg>\n",
              "  </button>\n",
              "\n",
              "<style>\n",
              "  .colab-df-quickchart {\n",
              "      --bg-color: #E8F0FE;\n",
              "      --fill-color: #1967D2;\n",
              "      --hover-bg-color: #E2EBFA;\n",
              "      --hover-fill-color: #174EA6;\n",
              "      --disabled-fill-color: #AAA;\n",
              "      --disabled-bg-color: #DDD;\n",
              "  }\n",
              "\n",
              "  [theme=dark] .colab-df-quickchart {\n",
              "      --bg-color: #3B4455;\n",
              "      --fill-color: #D2E3FC;\n",
              "      --hover-bg-color: #434B5C;\n",
              "      --hover-fill-color: #FFFFFF;\n",
              "      --disabled-bg-color: #3B4455;\n",
              "      --disabled-fill-color: #666;\n",
              "  }\n",
              "\n",
              "  .colab-df-quickchart {\n",
              "    background-color: var(--bg-color);\n",
              "    border: none;\n",
              "    border-radius: 50%;\n",
              "    cursor: pointer;\n",
              "    display: none;\n",
              "    fill: var(--fill-color);\n",
              "    height: 32px;\n",
              "    padding: 0;\n",
              "    width: 32px;\n",
              "  }\n",
              "\n",
              "  .colab-df-quickchart:hover {\n",
              "    background-color: var(--hover-bg-color);\n",
              "    box-shadow: 0 1px 2px rgba(60, 64, 67, 0.3), 0 1px 3px 1px rgba(60, 64, 67, 0.15);\n",
              "    fill: var(--button-hover-fill-color);\n",
              "  }\n",
              "\n",
              "  .colab-df-quickchart-complete:disabled,\n",
              "  .colab-df-quickchart-complete:disabled:hover {\n",
              "    background-color: var(--disabled-bg-color);\n",
              "    fill: var(--disabled-fill-color);\n",
              "    box-shadow: none;\n",
              "  }\n",
              "\n",
              "  .colab-df-spinner {\n",
              "    border: 2px solid var(--fill-color);\n",
              "    border-color: transparent;\n",
              "    border-bottom-color: var(--fill-color);\n",
              "    animation:\n",
              "      spin 1s steps(1) infinite;\n",
              "  }\n",
              "\n",
              "  @keyframes spin {\n",
              "    0% {\n",
              "      border-color: transparent;\n",
              "      border-bottom-color: var(--fill-color);\n",
              "      border-left-color: var(--fill-color);\n",
              "    }\n",
              "    20% {\n",
              "      border-color: transparent;\n",
              "      border-left-color: var(--fill-color);\n",
              "      border-top-color: var(--fill-color);\n",
              "    }\n",
              "    30% {\n",
              "      border-color: transparent;\n",
              "      border-left-color: var(--fill-color);\n",
              "      border-top-color: var(--fill-color);\n",
              "      border-right-color: var(--fill-color);\n",
              "    }\n",
              "    40% {\n",
              "      border-color: transparent;\n",
              "      border-right-color: var(--fill-color);\n",
              "      border-top-color: var(--fill-color);\n",
              "    }\n",
              "    60% {\n",
              "      border-color: transparent;\n",
              "      border-right-color: var(--fill-color);\n",
              "    }\n",
              "    80% {\n",
              "      border-color: transparent;\n",
              "      border-right-color: var(--fill-color);\n",
              "      border-bottom-color: var(--fill-color);\n",
              "    }\n",
              "    90% {\n",
              "      border-color: transparent;\n",
              "      border-bottom-color: var(--fill-color);\n",
              "    }\n",
              "  }\n",
              "</style>\n",
              "\n",
              "  <script>\n",
              "    async function quickchart(key) {\n",
              "      const quickchartButtonEl =\n",
              "        document.querySelector('#' + key + ' button');\n",
              "      quickchartButtonEl.disabled = true;  // To prevent multiple clicks.\n",
              "      quickchartButtonEl.classList.add('colab-df-spinner');\n",
              "      try {\n",
              "        const charts = await google.colab.kernel.invokeFunction(\n",
              "            'suggestCharts', [key], {});\n",
              "      } catch (error) {\n",
              "        console.error('Error during call to suggestCharts:', error);\n",
              "      }\n",
              "      quickchartButtonEl.classList.remove('colab-df-spinner');\n",
              "      quickchartButtonEl.classList.add('colab-df-quickchart-complete');\n",
              "    }\n",
              "    (() => {\n",
              "      let quickchartButtonEl =\n",
              "        document.querySelector('#df-18491470-5d8c-49bf-a428-92c944aa590d button');\n",
              "      quickchartButtonEl.style.display =\n",
              "        google.colab.kernel.accessAllowed ? 'block' : 'none';\n",
              "    })();\n",
              "  </script>\n",
              "</div>\n",
              "\n",
              "    </div>\n",
              "  </div>\n"
            ],
            "application/vnd.google.colaboratory.intrinsic+json": {
              "type": "dataframe",
              "variable_name": "sales"
            }
          },
          "metadata": {},
          "execution_count": 7
        }
      ]
    },
    {
      "cell_type": "code",
      "source": [
        "sales.info()"
      ],
      "metadata": {
        "colab": {
          "base_uri": "https://localhost:8080/"
        },
        "id": "M_-yS08Vzq1B",
        "outputId": "370cb624-e0cc-4dca-9594-2242b28438df"
      },
      "execution_count": null,
      "outputs": [
        {
          "output_type": "stream",
          "name": "stdout",
          "text": [
            "<class 'pandas.core.frame.DataFrame'>\n",
            "RangeIndex: 260096 entries, 0 to 260095\n",
            "Data columns (total 13 columns):\n",
            " #   Column          Non-Null Count   Dtype         \n",
            "---  ------          --------------   -----         \n",
            " 0   OrderDate       260096 non-null  datetime64[ns]\n",
            " 1   OrderNumber     260096 non-null  int64         \n",
            " 2   ProductKey      260096 non-null  int64         \n",
            " 3   SalespersonKey  260096 non-null  int64         \n",
            " 4   Salesperson     260096 non-null  object        \n",
            " 5   Supervisor      260096 non-null  object        \n",
            " 6   Manager         260096 non-null  object        \n",
            " 7   Channel         260096 non-null  object        \n",
            " 8   Quantity        260096 non-null  int64         \n",
            " 9   UnitPrice       260096 non-null  float64       \n",
            " 10  total_revenue   260096 non-null  float64       \n",
            " 11  year            260096 non-null  int64         \n",
            " 12  quarter         260096 non-null  int64         \n",
            "dtypes: datetime64[ns](1), float64(2), int64(6), object(4)\n",
            "memory usage: 25.8+ MB\n"
          ]
        }
      ]
    },
    {
      "cell_type": "code",
      "source": [
        "product = pd.read_excel('Product.xlsx')"
      ],
      "metadata": {
        "id": "hAgh6ny83gpk"
      },
      "execution_count": null,
      "outputs": []
    },
    {
      "cell_type": "code",
      "source": [
        "product.info()"
      ],
      "metadata": {
        "colab": {
          "base_uri": "https://localhost:8080/"
        },
        "id": "j4C_32--z0O6",
        "outputId": "8cc7de4f-355e-4b4c-9ca6-e31140d098e2"
      },
      "execution_count": null,
      "outputs": [
        {
          "output_type": "stream",
          "name": "stdout",
          "text": [
            "<class 'pandas.core.frame.DataFrame'>\n",
            "RangeIndex: 798 entries, 0 to 797\n",
            "Data columns (total 4 columns):\n",
            " #   Column           Non-Null Count  Dtype \n",
            "---  ------           --------------  ----- \n",
            " 0   ID               798 non-null    int64 \n",
            " 1   ProductName      798 non-null    object\n",
            " 2   ProductGroup     798 non-null    object\n",
            " 3   ProductCategory  798 non-null    object\n",
            "dtypes: int64(1), object(3)\n",
            "memory usage: 25.1+ KB\n"
          ]
        }
      ]
    },
    {
      "cell_type": "code",
      "source": [
        "# Clean tables\n",
        "budget_data.to_csv('budget.csv')\n",
        "sales.to_csv('sales.csv')\n",
        "product.to_csv('product.csv')"
      ],
      "metadata": {
        "id": "myO18JXrnovL"
      },
      "execution_count": null,
      "outputs": []
    },
    {
      "cell_type": "markdown",
      "source": [
        "#### Extracting a SalesPerson table to evaluate the channels/managers well.\n"
      ],
      "metadata": {
        "id": "R5m0IozT4hXR"
      }
    },
    {
      "cell_type": "code",
      "source": [
        "sales_person = sales[['SalespersonKey',\n",
        "                      'Salesperson',\n",
        "                      'Supervisor',\n",
        "                      'Manager',\n",
        "                      'Channel']].drop_duplicates(subset = 'SalespersonKey')\n",
        "sales_person.head()"
      ],
      "metadata": {
        "colab": {
          "base_uri": "https://localhost:8080/",
          "height": 206
        },
        "id": "YDavud_0zzyo",
        "outputId": "add6e48a-c1bf-4858-97a6-6fddafdf0938"
      },
      "execution_count": null,
      "outputs": [
        {
          "output_type": "execute_result",
          "data": {
            "text/plain": [
              "    SalespersonKey       Salesperson      Supervisor          Manager  \\\n",
              "0              265        Julio Lima  Diogo Carvalho  Gabriel Azevedo   \n",
              "17             144  Felipe Goncalves   Sofia Ribeiro  Gabriel Azevedo   \n",
              "25             215    Carla Ferreira    Diego Araujo    Victor Castro   \n",
              "50             196  Leonardo Cardoso    Diego Araujo    Victor Castro   \n",
              "61             125     Gustavo Gomes  Diogo Carvalho  Gabriel Azevedo   \n",
              "\n",
              "        Channel  \n",
              "0   Distributor  \n",
              "17       Online  \n",
              "25       Retail  \n",
              "50       Retail  \n",
              "61  Distributor  "
            ],
            "text/html": [
              "\n",
              "  <div id=\"df-c6a5c152-edde-4552-a88a-e0836ae160c9\" class=\"colab-df-container\">\n",
              "    <div>\n",
              "<style scoped>\n",
              "    .dataframe tbody tr th:only-of-type {\n",
              "        vertical-align: middle;\n",
              "    }\n",
              "\n",
              "    .dataframe tbody tr th {\n",
              "        vertical-align: top;\n",
              "    }\n",
              "\n",
              "    .dataframe thead th {\n",
              "        text-align: right;\n",
              "    }\n",
              "</style>\n",
              "<table border=\"1\" class=\"dataframe\">\n",
              "  <thead>\n",
              "    <tr style=\"text-align: right;\">\n",
              "      <th></th>\n",
              "      <th>SalespersonKey</th>\n",
              "      <th>Salesperson</th>\n",
              "      <th>Supervisor</th>\n",
              "      <th>Manager</th>\n",
              "      <th>Channel</th>\n",
              "    </tr>\n",
              "  </thead>\n",
              "  <tbody>\n",
              "    <tr>\n",
              "      <th>0</th>\n",
              "      <td>265</td>\n",
              "      <td>Julio Lima</td>\n",
              "      <td>Diogo Carvalho</td>\n",
              "      <td>Gabriel Azevedo</td>\n",
              "      <td>Distributor</td>\n",
              "    </tr>\n",
              "    <tr>\n",
              "      <th>17</th>\n",
              "      <td>144</td>\n",
              "      <td>Felipe Goncalves</td>\n",
              "      <td>Sofia Ribeiro</td>\n",
              "      <td>Gabriel Azevedo</td>\n",
              "      <td>Online</td>\n",
              "    </tr>\n",
              "    <tr>\n",
              "      <th>25</th>\n",
              "      <td>215</td>\n",
              "      <td>Carla Ferreira</td>\n",
              "      <td>Diego Araujo</td>\n",
              "      <td>Victor Castro</td>\n",
              "      <td>Retail</td>\n",
              "    </tr>\n",
              "    <tr>\n",
              "      <th>50</th>\n",
              "      <td>196</td>\n",
              "      <td>Leonardo Cardoso</td>\n",
              "      <td>Diego Araujo</td>\n",
              "      <td>Victor Castro</td>\n",
              "      <td>Retail</td>\n",
              "    </tr>\n",
              "    <tr>\n",
              "      <th>61</th>\n",
              "      <td>125</td>\n",
              "      <td>Gustavo Gomes</td>\n",
              "      <td>Diogo Carvalho</td>\n",
              "      <td>Gabriel Azevedo</td>\n",
              "      <td>Distributor</td>\n",
              "    </tr>\n",
              "  </tbody>\n",
              "</table>\n",
              "</div>\n",
              "    <div class=\"colab-df-buttons\">\n",
              "\n",
              "  <div class=\"colab-df-container\">\n",
              "    <button class=\"colab-df-convert\" onclick=\"convertToInteractive('df-c6a5c152-edde-4552-a88a-e0836ae160c9')\"\n",
              "            title=\"Convert this dataframe to an interactive table.\"\n",
              "            style=\"display:none;\">\n",
              "\n",
              "  <svg xmlns=\"http://www.w3.org/2000/svg\" height=\"24px\" viewBox=\"0 -960 960 960\">\n",
              "    <path d=\"M120-120v-720h720v720H120Zm60-500h600v-160H180v160Zm220 220h160v-160H400v160Zm0 220h160v-160H400v160ZM180-400h160v-160H180v160Zm440 0h160v-160H620v160ZM180-180h160v-160H180v160Zm440 0h160v-160H620v160Z\"/>\n",
              "  </svg>\n",
              "    </button>\n",
              "\n",
              "  <style>\n",
              "    .colab-df-container {\n",
              "      display:flex;\n",
              "      gap: 12px;\n",
              "    }\n",
              "\n",
              "    .colab-df-convert {\n",
              "      background-color: #E8F0FE;\n",
              "      border: none;\n",
              "      border-radius: 50%;\n",
              "      cursor: pointer;\n",
              "      display: none;\n",
              "      fill: #1967D2;\n",
              "      height: 32px;\n",
              "      padding: 0 0 0 0;\n",
              "      width: 32px;\n",
              "    }\n",
              "\n",
              "    .colab-df-convert:hover {\n",
              "      background-color: #E2EBFA;\n",
              "      box-shadow: 0px 1px 2px rgba(60, 64, 67, 0.3), 0px 1px 3px 1px rgba(60, 64, 67, 0.15);\n",
              "      fill: #174EA6;\n",
              "    }\n",
              "\n",
              "    .colab-df-buttons div {\n",
              "      margin-bottom: 4px;\n",
              "    }\n",
              "\n",
              "    [theme=dark] .colab-df-convert {\n",
              "      background-color: #3B4455;\n",
              "      fill: #D2E3FC;\n",
              "    }\n",
              "\n",
              "    [theme=dark] .colab-df-convert:hover {\n",
              "      background-color: #434B5C;\n",
              "      box-shadow: 0px 1px 3px 1px rgba(0, 0, 0, 0.15);\n",
              "      filter: drop-shadow(0px 1px 2px rgba(0, 0, 0, 0.3));\n",
              "      fill: #FFFFFF;\n",
              "    }\n",
              "  </style>\n",
              "\n",
              "    <script>\n",
              "      const buttonEl =\n",
              "        document.querySelector('#df-c6a5c152-edde-4552-a88a-e0836ae160c9 button.colab-df-convert');\n",
              "      buttonEl.style.display =\n",
              "        google.colab.kernel.accessAllowed ? 'block' : 'none';\n",
              "\n",
              "      async function convertToInteractive(key) {\n",
              "        const element = document.querySelector('#df-c6a5c152-edde-4552-a88a-e0836ae160c9');\n",
              "        const dataTable =\n",
              "          await google.colab.kernel.invokeFunction('convertToInteractive',\n",
              "                                                    [key], {});\n",
              "        if (!dataTable) return;\n",
              "\n",
              "        const docLinkHtml = 'Like what you see? Visit the ' +\n",
              "          '<a target=\"_blank\" href=https://colab.research.google.com/notebooks/data_table.ipynb>data table notebook</a>'\n",
              "          + ' to learn more about interactive tables.';\n",
              "        element.innerHTML = '';\n",
              "        dataTable['output_type'] = 'display_data';\n",
              "        await google.colab.output.renderOutput(dataTable, element);\n",
              "        const docLink = document.createElement('div');\n",
              "        docLink.innerHTML = docLinkHtml;\n",
              "        element.appendChild(docLink);\n",
              "      }\n",
              "    </script>\n",
              "  </div>\n",
              "\n",
              "\n",
              "<div id=\"df-57ea6d5d-1863-4bbb-a04d-a2cf139bcc86\">\n",
              "  <button class=\"colab-df-quickchart\" onclick=\"quickchart('df-57ea6d5d-1863-4bbb-a04d-a2cf139bcc86')\"\n",
              "            title=\"Suggest charts\"\n",
              "            style=\"display:none;\">\n",
              "\n",
              "<svg xmlns=\"http://www.w3.org/2000/svg\" height=\"24px\"viewBox=\"0 0 24 24\"\n",
              "     width=\"24px\">\n",
              "    <g>\n",
              "        <path d=\"M19 3H5c-1.1 0-2 .9-2 2v14c0 1.1.9 2 2 2h14c1.1 0 2-.9 2-2V5c0-1.1-.9-2-2-2zM9 17H7v-7h2v7zm4 0h-2V7h2v10zm4 0h-2v-4h2v4z\"/>\n",
              "    </g>\n",
              "</svg>\n",
              "  </button>\n",
              "\n",
              "<style>\n",
              "  .colab-df-quickchart {\n",
              "      --bg-color: #E8F0FE;\n",
              "      --fill-color: #1967D2;\n",
              "      --hover-bg-color: #E2EBFA;\n",
              "      --hover-fill-color: #174EA6;\n",
              "      --disabled-fill-color: #AAA;\n",
              "      --disabled-bg-color: #DDD;\n",
              "  }\n",
              "\n",
              "  [theme=dark] .colab-df-quickchart {\n",
              "      --bg-color: #3B4455;\n",
              "      --fill-color: #D2E3FC;\n",
              "      --hover-bg-color: #434B5C;\n",
              "      --hover-fill-color: #FFFFFF;\n",
              "      --disabled-bg-color: #3B4455;\n",
              "      --disabled-fill-color: #666;\n",
              "  }\n",
              "\n",
              "  .colab-df-quickchart {\n",
              "    background-color: var(--bg-color);\n",
              "    border: none;\n",
              "    border-radius: 50%;\n",
              "    cursor: pointer;\n",
              "    display: none;\n",
              "    fill: var(--fill-color);\n",
              "    height: 32px;\n",
              "    padding: 0;\n",
              "    width: 32px;\n",
              "  }\n",
              "\n",
              "  .colab-df-quickchart:hover {\n",
              "    background-color: var(--hover-bg-color);\n",
              "    box-shadow: 0 1px 2px rgba(60, 64, 67, 0.3), 0 1px 3px 1px rgba(60, 64, 67, 0.15);\n",
              "    fill: var(--button-hover-fill-color);\n",
              "  }\n",
              "\n",
              "  .colab-df-quickchart-complete:disabled,\n",
              "  .colab-df-quickchart-complete:disabled:hover {\n",
              "    background-color: var(--disabled-bg-color);\n",
              "    fill: var(--disabled-fill-color);\n",
              "    box-shadow: none;\n",
              "  }\n",
              "\n",
              "  .colab-df-spinner {\n",
              "    border: 2px solid var(--fill-color);\n",
              "    border-color: transparent;\n",
              "    border-bottom-color: var(--fill-color);\n",
              "    animation:\n",
              "      spin 1s steps(1) infinite;\n",
              "  }\n",
              "\n",
              "  @keyframes spin {\n",
              "    0% {\n",
              "      border-color: transparent;\n",
              "      border-bottom-color: var(--fill-color);\n",
              "      border-left-color: var(--fill-color);\n",
              "    }\n",
              "    20% {\n",
              "      border-color: transparent;\n",
              "      border-left-color: var(--fill-color);\n",
              "      border-top-color: var(--fill-color);\n",
              "    }\n",
              "    30% {\n",
              "      border-color: transparent;\n",
              "      border-left-color: var(--fill-color);\n",
              "      border-top-color: var(--fill-color);\n",
              "      border-right-color: var(--fill-color);\n",
              "    }\n",
              "    40% {\n",
              "      border-color: transparent;\n",
              "      border-right-color: var(--fill-color);\n",
              "      border-top-color: var(--fill-color);\n",
              "    }\n",
              "    60% {\n",
              "      border-color: transparent;\n",
              "      border-right-color: var(--fill-color);\n",
              "    }\n",
              "    80% {\n",
              "      border-color: transparent;\n",
              "      border-right-color: var(--fill-color);\n",
              "      border-bottom-color: var(--fill-color);\n",
              "    }\n",
              "    90% {\n",
              "      border-color: transparent;\n",
              "      border-bottom-color: var(--fill-color);\n",
              "    }\n",
              "  }\n",
              "</style>\n",
              "\n",
              "  <script>\n",
              "    async function quickchart(key) {\n",
              "      const quickchartButtonEl =\n",
              "        document.querySelector('#' + key + ' button');\n",
              "      quickchartButtonEl.disabled = true;  // To prevent multiple clicks.\n",
              "      quickchartButtonEl.classList.add('colab-df-spinner');\n",
              "      try {\n",
              "        const charts = await google.colab.kernel.invokeFunction(\n",
              "            'suggestCharts', [key], {});\n",
              "      } catch (error) {\n",
              "        console.error('Error during call to suggestCharts:', error);\n",
              "      }\n",
              "      quickchartButtonEl.classList.remove('colab-df-spinner');\n",
              "      quickchartButtonEl.classList.add('colab-df-quickchart-complete');\n",
              "    }\n",
              "    (() => {\n",
              "      let quickchartButtonEl =\n",
              "        document.querySelector('#df-57ea6d5d-1863-4bbb-a04d-a2cf139bcc86 button');\n",
              "      quickchartButtonEl.style.display =\n",
              "        google.colab.kernel.accessAllowed ? 'block' : 'none';\n",
              "    })();\n",
              "  </script>\n",
              "</div>\n",
              "\n",
              "    </div>\n",
              "  </div>\n"
            ],
            "application/vnd.google.colaboratory.intrinsic+json": {
              "type": "dataframe",
              "variable_name": "sales_person",
              "summary": "{\n  \"name\": \"sales_person\",\n  \"rows\": 12,\n  \"fields\": [\n    {\n      \"column\": \"SalespersonKey\",\n      \"properties\": {\n        \"dtype\": \"number\",\n        \"std\": 190,\n        \"min\": 102,\n        \"max\": 669,\n        \"num_unique_values\": 12,\n        \"samples\": [\n          194,\n          326,\n          265\n        ],\n        \"semantic_type\": \"\",\n        \"description\": \"\"\n      }\n    },\n    {\n      \"column\": \"Salesperson\",\n      \"properties\": {\n        \"dtype\": \"string\",\n        \"num_unique_values\": 12,\n        \"samples\": [\n          \"Estevan Souza\",\n          \"Julia Silva\",\n          \"Julio Lima\"\n        ],\n        \"semantic_type\": \"\",\n        \"description\": \"\"\n      }\n    },\n    {\n      \"column\": \"Supervisor\",\n      \"properties\": {\n        \"dtype\": \"category\",\n        \"num_unique_values\": 5,\n        \"samples\": [\n          \"Sofia Ribeiro\",\n          \"Fernando Silva\",\n          \"Diego Araujo\"\n        ],\n        \"semantic_type\": \"\",\n        \"description\": \"\"\n      }\n    },\n    {\n      \"column\": \"Manager\",\n      \"properties\": {\n        \"dtype\": \"category\",\n        \"num_unique_values\": 2,\n        \"samples\": [\n          \"Victor Castro\",\n          \"Gabriel Azevedo\"\n        ],\n        \"semantic_type\": \"\",\n        \"description\": \"\"\n      }\n    },\n    {\n      \"column\": \"Channel\",\n      \"properties\": {\n        \"dtype\": \"category\",\n        \"num_unique_values\": 3,\n        \"samples\": [\n          \"Distributor\",\n          \"Online\"\n        ],\n        \"semantic_type\": \"\",\n        \"description\": \"\"\n      }\n    }\n  ]\n}"
            }
          },
          "metadata": {},
          "execution_count": 418
        }
      ]
    },
    {
      "cell_type": "code",
      "source": [],
      "metadata": {
        "id": "F6r4wydROu9m"
      },
      "execution_count": null,
      "outputs": []
    },
    {
      "cell_type": "markdown",
      "source": [
        "#### Creating Tables that contains sales person info and budget"
      ],
      "metadata": {
        "id": "WNJ6RfBDOvaA"
      }
    },
    {
      "cell_type": "code",
      "source": [
        "salesperson_budget = budget_data.merge(sales_person, left_on = 'SalespersonID', right_on = 'SalespersonKey')\n",
        "salesperson_budget = salesperson_budget.drop('SalespersonKey', axis = 1)\n",
        "salesperson_budget.head()"
      ],
      "metadata": {
        "colab": {
          "base_uri": "https://localhost:8080/",
          "height": 206
        },
        "id": "54YGkj6Uzzpg",
        "outputId": "a8e36d45-3f94-431a-94f8-8077268095bf"
      },
      "execution_count": null,
      "outputs": [
        {
          "output_type": "execute_result",
          "data": {
            "text/plain": [
              "  SalespersonID       date  budget_amount  year  quarter    Salesperson  \\\n",
              "0           125 2019-01-01    9016.031000  2019        1  Gustavo Gomes   \n",
              "1           125 2019-02-01   12635.710568  2019        1  Gustavo Gomes   \n",
              "2           125 2019-03-01    3975.959267  2019        1  Gustavo Gomes   \n",
              "3           125 2019-04-01   35418.687607  2019        2  Gustavo Gomes   \n",
              "4           125 2019-05-01   67254.905958  2019        2  Gustavo Gomes   \n",
              "\n",
              "       Supervisor          Manager      Channel  \n",
              "0  Diogo Carvalho  Gabriel Azevedo  Distributor  \n",
              "1  Diogo Carvalho  Gabriel Azevedo  Distributor  \n",
              "2  Diogo Carvalho  Gabriel Azevedo  Distributor  \n",
              "3  Diogo Carvalho  Gabriel Azevedo  Distributor  \n",
              "4  Diogo Carvalho  Gabriel Azevedo  Distributor  "
            ],
            "text/html": [
              "\n",
              "  <div id=\"df-1c1bd8ef-753b-43ea-8a69-2288a9423879\" class=\"colab-df-container\">\n",
              "    <div>\n",
              "<style scoped>\n",
              "    .dataframe tbody tr th:only-of-type {\n",
              "        vertical-align: middle;\n",
              "    }\n",
              "\n",
              "    .dataframe tbody tr th {\n",
              "        vertical-align: top;\n",
              "    }\n",
              "\n",
              "    .dataframe thead th {\n",
              "        text-align: right;\n",
              "    }\n",
              "</style>\n",
              "<table border=\"1\" class=\"dataframe\">\n",
              "  <thead>\n",
              "    <tr style=\"text-align: right;\">\n",
              "      <th></th>\n",
              "      <th>SalespersonID</th>\n",
              "      <th>date</th>\n",
              "      <th>budget_amount</th>\n",
              "      <th>year</th>\n",
              "      <th>quarter</th>\n",
              "      <th>Salesperson</th>\n",
              "      <th>Supervisor</th>\n",
              "      <th>Manager</th>\n",
              "      <th>Channel</th>\n",
              "    </tr>\n",
              "  </thead>\n",
              "  <tbody>\n",
              "    <tr>\n",
              "      <th>0</th>\n",
              "      <td>125</td>\n",
              "      <td>2019-01-01</td>\n",
              "      <td>9016.031000</td>\n",
              "      <td>2019</td>\n",
              "      <td>1</td>\n",
              "      <td>Gustavo Gomes</td>\n",
              "      <td>Diogo Carvalho</td>\n",
              "      <td>Gabriel Azevedo</td>\n",
              "      <td>Distributor</td>\n",
              "    </tr>\n",
              "    <tr>\n",
              "      <th>1</th>\n",
              "      <td>125</td>\n",
              "      <td>2019-02-01</td>\n",
              "      <td>12635.710568</td>\n",
              "      <td>2019</td>\n",
              "      <td>1</td>\n",
              "      <td>Gustavo Gomes</td>\n",
              "      <td>Diogo Carvalho</td>\n",
              "      <td>Gabriel Azevedo</td>\n",
              "      <td>Distributor</td>\n",
              "    </tr>\n",
              "    <tr>\n",
              "      <th>2</th>\n",
              "      <td>125</td>\n",
              "      <td>2019-03-01</td>\n",
              "      <td>3975.959267</td>\n",
              "      <td>2019</td>\n",
              "      <td>1</td>\n",
              "      <td>Gustavo Gomes</td>\n",
              "      <td>Diogo Carvalho</td>\n",
              "      <td>Gabriel Azevedo</td>\n",
              "      <td>Distributor</td>\n",
              "    </tr>\n",
              "    <tr>\n",
              "      <th>3</th>\n",
              "      <td>125</td>\n",
              "      <td>2019-04-01</td>\n",
              "      <td>35418.687607</td>\n",
              "      <td>2019</td>\n",
              "      <td>2</td>\n",
              "      <td>Gustavo Gomes</td>\n",
              "      <td>Diogo Carvalho</td>\n",
              "      <td>Gabriel Azevedo</td>\n",
              "      <td>Distributor</td>\n",
              "    </tr>\n",
              "    <tr>\n",
              "      <th>4</th>\n",
              "      <td>125</td>\n",
              "      <td>2019-05-01</td>\n",
              "      <td>67254.905958</td>\n",
              "      <td>2019</td>\n",
              "      <td>2</td>\n",
              "      <td>Gustavo Gomes</td>\n",
              "      <td>Diogo Carvalho</td>\n",
              "      <td>Gabriel Azevedo</td>\n",
              "      <td>Distributor</td>\n",
              "    </tr>\n",
              "  </tbody>\n",
              "</table>\n",
              "</div>\n",
              "    <div class=\"colab-df-buttons\">\n",
              "\n",
              "  <div class=\"colab-df-container\">\n",
              "    <button class=\"colab-df-convert\" onclick=\"convertToInteractive('df-1c1bd8ef-753b-43ea-8a69-2288a9423879')\"\n",
              "            title=\"Convert this dataframe to an interactive table.\"\n",
              "            style=\"display:none;\">\n",
              "\n",
              "  <svg xmlns=\"http://www.w3.org/2000/svg\" height=\"24px\" viewBox=\"0 -960 960 960\">\n",
              "    <path d=\"M120-120v-720h720v720H120Zm60-500h600v-160H180v160Zm220 220h160v-160H400v160Zm0 220h160v-160H400v160ZM180-400h160v-160H180v160Zm440 0h160v-160H620v160ZM180-180h160v-160H180v160Zm440 0h160v-160H620v160Z\"/>\n",
              "  </svg>\n",
              "    </button>\n",
              "\n",
              "  <style>\n",
              "    .colab-df-container {\n",
              "      display:flex;\n",
              "      gap: 12px;\n",
              "    }\n",
              "\n",
              "    .colab-df-convert {\n",
              "      background-color: #E8F0FE;\n",
              "      border: none;\n",
              "      border-radius: 50%;\n",
              "      cursor: pointer;\n",
              "      display: none;\n",
              "      fill: #1967D2;\n",
              "      height: 32px;\n",
              "      padding: 0 0 0 0;\n",
              "      width: 32px;\n",
              "    }\n",
              "\n",
              "    .colab-df-convert:hover {\n",
              "      background-color: #E2EBFA;\n",
              "      box-shadow: 0px 1px 2px rgba(60, 64, 67, 0.3), 0px 1px 3px 1px rgba(60, 64, 67, 0.15);\n",
              "      fill: #174EA6;\n",
              "    }\n",
              "\n",
              "    .colab-df-buttons div {\n",
              "      margin-bottom: 4px;\n",
              "    }\n",
              "\n",
              "    [theme=dark] .colab-df-convert {\n",
              "      background-color: #3B4455;\n",
              "      fill: #D2E3FC;\n",
              "    }\n",
              "\n",
              "    [theme=dark] .colab-df-convert:hover {\n",
              "      background-color: #434B5C;\n",
              "      box-shadow: 0px 1px 3px 1px rgba(0, 0, 0, 0.15);\n",
              "      filter: drop-shadow(0px 1px 2px rgba(0, 0, 0, 0.3));\n",
              "      fill: #FFFFFF;\n",
              "    }\n",
              "  </style>\n",
              "\n",
              "    <script>\n",
              "      const buttonEl =\n",
              "        document.querySelector('#df-1c1bd8ef-753b-43ea-8a69-2288a9423879 button.colab-df-convert');\n",
              "      buttonEl.style.display =\n",
              "        google.colab.kernel.accessAllowed ? 'block' : 'none';\n",
              "\n",
              "      async function convertToInteractive(key) {\n",
              "        const element = document.querySelector('#df-1c1bd8ef-753b-43ea-8a69-2288a9423879');\n",
              "        const dataTable =\n",
              "          await google.colab.kernel.invokeFunction('convertToInteractive',\n",
              "                                                    [key], {});\n",
              "        if (!dataTable) return;\n",
              "\n",
              "        const docLinkHtml = 'Like what you see? Visit the ' +\n",
              "          '<a target=\"_blank\" href=https://colab.research.google.com/notebooks/data_table.ipynb>data table notebook</a>'\n",
              "          + ' to learn more about interactive tables.';\n",
              "        element.innerHTML = '';\n",
              "        dataTable['output_type'] = 'display_data';\n",
              "        await google.colab.output.renderOutput(dataTable, element);\n",
              "        const docLink = document.createElement('div');\n",
              "        docLink.innerHTML = docLinkHtml;\n",
              "        element.appendChild(docLink);\n",
              "      }\n",
              "    </script>\n",
              "  </div>\n",
              "\n",
              "\n",
              "<div id=\"df-6149f2ef-d147-492c-8e04-9e56999c3859\">\n",
              "  <button class=\"colab-df-quickchart\" onclick=\"quickchart('df-6149f2ef-d147-492c-8e04-9e56999c3859')\"\n",
              "            title=\"Suggest charts\"\n",
              "            style=\"display:none;\">\n",
              "\n",
              "<svg xmlns=\"http://www.w3.org/2000/svg\" height=\"24px\"viewBox=\"0 0 24 24\"\n",
              "     width=\"24px\">\n",
              "    <g>\n",
              "        <path d=\"M19 3H5c-1.1 0-2 .9-2 2v14c0 1.1.9 2 2 2h14c1.1 0 2-.9 2-2V5c0-1.1-.9-2-2-2zM9 17H7v-7h2v7zm4 0h-2V7h2v10zm4 0h-2v-4h2v4z\"/>\n",
              "    </g>\n",
              "</svg>\n",
              "  </button>\n",
              "\n",
              "<style>\n",
              "  .colab-df-quickchart {\n",
              "      --bg-color: #E8F0FE;\n",
              "      --fill-color: #1967D2;\n",
              "      --hover-bg-color: #E2EBFA;\n",
              "      --hover-fill-color: #174EA6;\n",
              "      --disabled-fill-color: #AAA;\n",
              "      --disabled-bg-color: #DDD;\n",
              "  }\n",
              "\n",
              "  [theme=dark] .colab-df-quickchart {\n",
              "      --bg-color: #3B4455;\n",
              "      --fill-color: #D2E3FC;\n",
              "      --hover-bg-color: #434B5C;\n",
              "      --hover-fill-color: #FFFFFF;\n",
              "      --disabled-bg-color: #3B4455;\n",
              "      --disabled-fill-color: #666;\n",
              "  }\n",
              "\n",
              "  .colab-df-quickchart {\n",
              "    background-color: var(--bg-color);\n",
              "    border: none;\n",
              "    border-radius: 50%;\n",
              "    cursor: pointer;\n",
              "    display: none;\n",
              "    fill: var(--fill-color);\n",
              "    height: 32px;\n",
              "    padding: 0;\n",
              "    width: 32px;\n",
              "  }\n",
              "\n",
              "  .colab-df-quickchart:hover {\n",
              "    background-color: var(--hover-bg-color);\n",
              "    box-shadow: 0 1px 2px rgba(60, 64, 67, 0.3), 0 1px 3px 1px rgba(60, 64, 67, 0.15);\n",
              "    fill: var(--button-hover-fill-color);\n",
              "  }\n",
              "\n",
              "  .colab-df-quickchart-complete:disabled,\n",
              "  .colab-df-quickchart-complete:disabled:hover {\n",
              "    background-color: var(--disabled-bg-color);\n",
              "    fill: var(--disabled-fill-color);\n",
              "    box-shadow: none;\n",
              "  }\n",
              "\n",
              "  .colab-df-spinner {\n",
              "    border: 2px solid var(--fill-color);\n",
              "    border-color: transparent;\n",
              "    border-bottom-color: var(--fill-color);\n",
              "    animation:\n",
              "      spin 1s steps(1) infinite;\n",
              "  }\n",
              "\n",
              "  @keyframes spin {\n",
              "    0% {\n",
              "      border-color: transparent;\n",
              "      border-bottom-color: var(--fill-color);\n",
              "      border-left-color: var(--fill-color);\n",
              "    }\n",
              "    20% {\n",
              "      border-color: transparent;\n",
              "      border-left-color: var(--fill-color);\n",
              "      border-top-color: var(--fill-color);\n",
              "    }\n",
              "    30% {\n",
              "      border-color: transparent;\n",
              "      border-left-color: var(--fill-color);\n",
              "      border-top-color: var(--fill-color);\n",
              "      border-right-color: var(--fill-color);\n",
              "    }\n",
              "    40% {\n",
              "      border-color: transparent;\n",
              "      border-right-color: var(--fill-color);\n",
              "      border-top-color: var(--fill-color);\n",
              "    }\n",
              "    60% {\n",
              "      border-color: transparent;\n",
              "      border-right-color: var(--fill-color);\n",
              "    }\n",
              "    80% {\n",
              "      border-color: transparent;\n",
              "      border-right-color: var(--fill-color);\n",
              "      border-bottom-color: var(--fill-color);\n",
              "    }\n",
              "    90% {\n",
              "      border-color: transparent;\n",
              "      border-bottom-color: var(--fill-color);\n",
              "    }\n",
              "  }\n",
              "</style>\n",
              "\n",
              "  <script>\n",
              "    async function quickchart(key) {\n",
              "      const quickchartButtonEl =\n",
              "        document.querySelector('#' + key + ' button');\n",
              "      quickchartButtonEl.disabled = true;  // To prevent multiple clicks.\n",
              "      quickchartButtonEl.classList.add('colab-df-spinner');\n",
              "      try {\n",
              "        const charts = await google.colab.kernel.invokeFunction(\n",
              "            'suggestCharts', [key], {});\n",
              "      } catch (error) {\n",
              "        console.error('Error during call to suggestCharts:', error);\n",
              "      }\n",
              "      quickchartButtonEl.classList.remove('colab-df-spinner');\n",
              "      quickchartButtonEl.classList.add('colab-df-quickchart-complete');\n",
              "    }\n",
              "    (() => {\n",
              "      let quickchartButtonEl =\n",
              "        document.querySelector('#df-6149f2ef-d147-492c-8e04-9e56999c3859 button');\n",
              "      quickchartButtonEl.style.display =\n",
              "        google.colab.kernel.accessAllowed ? 'block' : 'none';\n",
              "    })();\n",
              "  </script>\n",
              "</div>\n",
              "\n",
              "    </div>\n",
              "  </div>\n"
            ],
            "application/vnd.google.colaboratory.intrinsic+json": {
              "type": "dataframe",
              "variable_name": "salesperson_budget",
              "repr_error": "'str' object has no attribute 'empty'"
            }
          },
          "metadata": {},
          "execution_count": 419
        }
      ]
    },
    {
      "cell_type": "code",
      "source": [
        "budget_data.shape, salesperson_budget.shape"
      ],
      "metadata": {
        "colab": {
          "base_uri": "https://localhost:8080/"
        },
        "id": "vEGUV2cQ5UlN",
        "outputId": "bb4d1914-7888-4e5d-fdc5-2ab381408044"
      },
      "execution_count": null,
      "outputs": [
        {
          "output_type": "execute_result",
          "data": {
            "text/plain": [
              "((241, 5), (241, 9))"
            ]
          },
          "metadata": {},
          "execution_count": 75
        }
      ]
    },
    {
      "cell_type": "markdown",
      "source": [
        "### Data is clean now, lets start checking some performance across different categories of sales employees\n",
        "\n"
      ],
      "metadata": {
        "id": "uLhnIs5x7ZeA"
      }
    },
    {
      "cell_type": "markdown",
      "source": [
        "#### Evaluating the sales teams and checking when was the target budget met\n",
        ">Tracking when was the target budget satisfied to help identify high-performing periods or areas that may need improvement."
      ],
      "metadata": {
        "id": "9iLnageXA6uZ"
      }
    },
    {
      "cell_type": "code",
      "source": [
        "# creating column to identify each quarter for each year\n",
        "salesperson_budget['year_quarter'] = (salesperson_budget.year.astype('str') + '_Q' +\n",
        "                                      salesperson_budget.quarter.astype('str')\n",
        "                                      )\n",
        "\n",
        "sales['year_quarter'] = (sales.year.astype('str') + '_Q' +\n",
        "                                      sales.quarter.astype('str')\n",
        "                                      )"
      ],
      "metadata": {
        "id": "7AFCfmwwMG1_"
      },
      "execution_count": null,
      "outputs": []
    },
    {
      "cell_type": "markdown",
      "source": [
        "#### Checking the overall difference between revenue and budget for each year."
      ],
      "metadata": {
        "id": "6KdJchZPPujY"
      }
    },
    {
      "cell_type": "code",
      "source": [
        "# revenue per year\n",
        "fig , ax = plt.subplots(figsize=(10,5),ncols=1, sharex=True, sharey=True )\n",
        "\n",
        "sns.barplot(\n",
        "    data = sales,\n",
        "    x = 'year',\n",
        "    y = 'total_revenue',\n",
        "    errorbar=None,\n",
        "    estimator='sum',\n",
        "    hue = 'year',\n",
        "    palette = ['g', 'g', 'g'],\n",
        "    legend = False,\n",
        "    ax = ax,\n",
        "    label = 'Total Revenue'\n",
        ")\n",
        "# budget required per year\n",
        "sns.barplot(\n",
        "    data = salesperson_budget,\n",
        "    x = 'year',\n",
        "    y = 'budget_amount',\n",
        "    errorbar=None,\n",
        "    estimator='sum',\n",
        "    alpha = .5,\n",
        "    hue = 'year',\n",
        "    palette = ['r', 'r', 'r'],\n",
        "    legend = False,\n",
        "    ax = ax,\n",
        "    label = 'Budget Threshold'\n",
        ")\n",
        "plt.title('Revenue Vs Budget per Year')\n",
        "lables = [str(i).replace(f\"{i}\", f'${i}M') for i in np.arange(0, 12, 2 )]\n",
        "plt.setp(ax, yticks=1000_000*np.arange(0, 12, 2 ), yticklabels=lables)\n",
        "plt.xlabel('')\n",
        "plt.ylabel('Total Revenue (M)');\n",
        "# plt.legend(['Total Revenue', 'Budget Threshold'])"
      ],
      "metadata": {
        "colab": {
          "base_uri": "https://localhost:8080/",
          "height": 468
        },
        "id": "Osh0bRDLMl32",
        "outputId": "4843c28c-75e9-4b09-873a-7b71bf246cc2"
      },
      "execution_count": null,
      "outputs": [
        {
          "output_type": "display_data",
          "data": {
            "text/plain": [
              "<Figure size 1000x500 with 1 Axes>"
            ],
            "image/png": "[encoded data removed]"
          },
          "metadata": {}
        }
      ]
    },
    {
      "cell_type": "markdown",
      "source": [
        "#### Checking the overall difference between revenue and budget for each Quarter."
      ],
      "metadata": {
        "id": "fHTe5pTfQEkm"
      }
    },
    {
      "cell_type": "code",
      "source": [
        "\n",
        "# revenue per Quarter\n",
        "fig , ax = plt.subplots(figsize=(10,5),ncols=1, sharex=True, sharey=True )\n",
        "\n",
        "sns.barplot(\n",
        "    data = sales,\n",
        "    x = 'year_quarter',\n",
        "    y = 'total_revenue',\n",
        "    errorbar=None,\n",
        "    estimator='sum',\n",
        "    hue = 'year',\n",
        "    palette = ['g', 'g', 'g'],\n",
        "    legend = False,\n",
        "    ax = ax,\n",
        "    label = 'Total Revenue'\n",
        ")\n",
        "# budget required per Quarter\n",
        "sns.barplot(\n",
        "    data = salesperson_budget,\n",
        "    x = 'year_quarter',\n",
        "    y = 'budget_amount',\n",
        "    errorbar=None,\n",
        "    estimator='sum',\n",
        "    alpha = .5,\n",
        "    hue = 'year',\n",
        "    palette = ['r', 'r', 'r'],\n",
        "    legend = False,\n",
        "    ax = ax,\n",
        "    label = 'Budget Threshold'\n",
        ")\n",
        "plt.title('Revenue Vs Budget per Quarter')\n",
        "lables = [str(i).replace(f\"{i}\", f'${i}M') for i in np.arange(0, 5, 1 )]\n",
        "plt.setp(ax, yticks=1000_000*np.arange(0, 5, 1 ), yticklabels=lables)\n",
        "plt.xlabel('')\n",
        "plt.ylabel('Total Revenue (M)');\n",
        "# plt.legend(['Total Revenue', 'Budget Threshold'])"
      ],
      "metadata": {
        "colab": {
          "base_uri": "https://localhost:8080/",
          "height": 468
        },
        "id": "XBkN9HUmSXX5",
        "outputId": "3c44b826-1c00-42fb-bfbc-9763f672dc65"
      },
      "execution_count": null,
      "outputs": [
        {
          "output_type": "display_data",
          "data": {
            "text/plain": [
              "<Figure size 1000x500 with 1 Axes>"
            ],
            "image/png": "[encoded data removed]"
          },
          "metadata": {}
        }
      ]
    },
    {
      "cell_type": "markdown",
      "source": [
        "* Quarter 1 got a high performance in each year except for 2021\n",
        "\n",
        "* 2019 had a higher revenue per quarter, but it didn't catch the expectations of the budget in Quarter 2\n",
        "\n",
        "* 2020 was a great year compared to 2019 as it was able to achieve the target in 3 quarters and overall higher revenue"
      ],
      "metadata": {
        "id": "XkbjBVteTYW8"
      }
    },
    {
      "cell_type": "markdown",
      "source": [
        "#### Checking the performance per channel\n",
        "\n",
        "\n"
      ],
      "metadata": {
        "id": "lJEGmmdtVb2t"
      }
    },
    {
      "cell_type": "code",
      "source": [
        "fig , ax = plt.subplots(figsize=(10,5),ncols=1, sharex=True, sharey=True )\n",
        "\n",
        "sns.barplot(\n",
        "    data = sales,\n",
        "    x = 'year',\n",
        "    y = 'total_revenue',\n",
        "    errorbar=None,\n",
        "    estimator='sum',\n",
        "    hue = 'Channel',\n",
        "    hue_order = sales.Channel.unique().tolist(),\n",
        "    palette = sns.color_palette('dark')[:3],\n",
        "    # legend = False,\n",
        "    ax = ax\n",
        ")\n",
        "# budget required per Quarter\n",
        "sns.barplot(\n",
        "    data = salesperson_budget,\n",
        "    x = 'year',\n",
        "    y = 'budget_amount',\n",
        "    errorbar=None,\n",
        "    estimator='sum',\n",
        "    alpha = .6,\n",
        "    hue = 'Channel',\n",
        "    hue_order = sales.Channel.unique().tolist(),\n",
        "    palette = ['r', 'r', 'r'],\n",
        "    legend = False,\n",
        "    ax = ax\n",
        ")\n",
        "plt.title('Revenue Vs Budget in each Year per Channel')\n",
        "lables = [str(i).replace(f\"{i}\", f'${i}M') for i in np.arange(0, 5, 1 )]\n",
        "plt.setp(ax, yticks=1000_000*np.arange(0, 5, 1 ), yticklabels=lables)\n",
        "plt.xlabel('')\n",
        "plt.ylabel('Total Revenue (M)');"
      ],
      "metadata": {
        "colab": {
          "base_uri": "https://localhost:8080/",
          "height": 468
        },
        "id": "TkFTGOa5TWQS",
        "outputId": "26740387-e93e-408c-e885-773f6f29ab07"
      },
      "execution_count": null,
      "outputs": [
        {
          "output_type": "display_data",
          "data": {
            "text/plain": [
              "<Figure size 1000x500 with 1 Axes>"
            ],
            "image/png": "[encoded data removed]"
          },
          "metadata": {}
        }
      ]
    },
    {
      "cell_type": "code",
      "source": [
        "fig , ax = plt.subplots(figsize=(10,7),ncols=1, sharex=True, sharey=True )\n",
        "\n",
        "sns.barplot(\n",
        "    data = sales,\n",
        "    x = 'year_quarter',\n",
        "    y = 'total_revenue',\n",
        "    errorbar=None,\n",
        "    estimator='sum',\n",
        "    hue = 'Channel',\n",
        "    hue_order = sales.Channel.unique().tolist(),\n",
        "    palette = sns.color_palette('dark')[-3:],\n",
        "    # legend = False,\n",
        "    ax = ax\n",
        ")\n",
        "# budget required per Quarter\n",
        "sns.barplot(\n",
        "    data = salesperson_budget,\n",
        "    x = 'year_quarter',\n",
        "    y = 'budget_amount',\n",
        "    errorbar=None,\n",
        "    estimator='sum',\n",
        "    alpha = .8,\n",
        "    hue = 'Channel',\n",
        "    hue_order = sales.Channel.unique().tolist(),\n",
        "    palette = ['r', 'r', 'r'],\n",
        "    legend = False,\n",
        "    ax = ax\n",
        ")\n",
        "plt.title('Revenue Vs Budget in each Quarter per Channel')\n",
        "lables = [str(i).replace(f\"{i}\", f'${i}M') for i in np.arange(0, 2, .5 )]\n",
        "plt.setp(ax, yticks=1000_000*np.arange(0, 2, .5 ), yticklabels=lables)\n",
        "plt.xlabel('')\n",
        "plt.ylabel('Total Revenue (M)');"
      ],
      "metadata": {
        "colab": {
          "base_uri": "https://localhost:8080/",
          "height": 622
        },
        "id": "u5xJ95iCXUNl",
        "outputId": "78862aa5-164a-4282-ac92-0461b5f909c6"
      },
      "execution_count": null,
      "outputs": [
        {
          "output_type": "display_data",
          "data": {
            "text/plain": [
              "<Figure size 1000x700 with 1 Axes>"
            ],
            "image/png": "[encoded data removed]"
          },
          "metadata": {}
        }
      ]
    },
    {
      "cell_type": "markdown",
      "source": [
        "* Overall the distributor channel had a better score\n",
        "the drop in 2020 might be caused by covid19 impact\n",
        "\n",
        "* The online channel is not meeting the budget target all the time but overall it had a great jump in revenue from 2019 to 2020\n",
        "\n",
        "* The retail channel had a good achievement but it is usually down in quarter 2"
      ],
      "metadata": {
        "id": "ev5HhJWDaRHc"
      }
    },
    {
      "cell_type": "markdown",
      "source": [
        "#### Investigating the revenue achieved for each management level"
      ],
      "metadata": {
        "id": "jJAowwv9U4OR"
      }
    },
    {
      "cell_type": "markdown",
      "source": [
        "##### Managers Level"
      ],
      "metadata": {
        "id": "zwnbsC7XBGeF"
      }
    },
    {
      "cell_type": "code",
      "source": [],
      "metadata": {
        "id": "1lUirgvkDGrt"
      },
      "execution_count": null,
      "outputs": []
    },
    {
      "cell_type": "code",
      "source": [
        "# revenue per year\n",
        "fig , ax = plt.subplots(figsize=(15,7),ncols=1, sharex=True, sharey=True )\n",
        "\n",
        "sns.barplot(\n",
        "    data = sales,\n",
        "    x = 'year',\n",
        "    y = 'total_revenue',\n",
        "    errorbar=None,\n",
        "    estimator='sum',\n",
        "    hue = 'Manager',\n",
        "    hue_order = sales.Manager.unique().tolist(),\n",
        "    palette = [sns.color_palette(\"bright\")[2], sns.color_palette(\"bright\")[1]],\n",
        "    ax = ax\n",
        ")\n",
        "# budget required per year\n",
        "sns.barplot(\n",
        "    data = salesperson_budget,\n",
        "    x = 'year',\n",
        "    y = 'budget_amount',\n",
        "    errorbar=None,\n",
        "    estimator='sum',\n",
        "    hue = 'Manager',\n",
        "    hue_order = sales.Manager.unique().tolist(),\n",
        "    alpha = .84,\n",
        "    palette = ['r', 'r'],\n",
        "    legend = False,\n",
        "    ax = ax\n",
        ")\n",
        "plt.title('Revenue Vs Budget in each Year per Manager')\n",
        "lables = [str(i).replace(f\"{i}\", f'${i}M') for i in np.arange(0, 7, 1 )]\n",
        "plt.setp(ax, yticks=1000_000*np.arange(0, 7, 1 ), yticklabels=lables)\n",
        "plt.xlabel('')\n",
        "plt.ylabel('Total Revenue (M)');"
      ],
      "metadata": {
        "colab": {
          "base_uri": "https://localhost:8080/",
          "height": 541
        },
        "id": "Ve1Tx60z7VvU",
        "outputId": "9b2c96ce-44e8-493c-a3ae-9dbbb3662bf1"
      },
      "execution_count": null,
      "outputs": [
        {
          "output_type": "display_data",
          "data": {
            "text/plain": [
              "<Figure size 1500x700 with 1 Axes>"
            ],
            "image/png": "[encoded data removed]"
          },
          "metadata": {}
        }
      ]
    },
    {
      "cell_type": "markdown",
      "source": [
        "* Although Gabrial didn't meet the budget required for 2020 and early 2021, he still was quite close to the target.\n",
        "\n",
        "* Victor didn't meet the allocated budget in 2019, yet he could achieve a higher revenue in the following year, and he hit the target in the early times of 2021, which might be a good indicator for a promising achievement in the upcoming quarters."
      ],
      "metadata": {
        "id": "_U7x5db7UlAm"
      }
    },
    {
      "cell_type": "markdown",
      "source": [],
      "metadata": {
        "id": "KRbB6w3gJGl-"
      }
    },
    {
      "cell_type": "code",
      "source": [
        "# revenue per year and quarter\n",
        "fig , ax = plt.subplots(figsize=(13,5),ncols=1, sharex=True, sharey=True )\n",
        "\n",
        "sns.barplot(\n",
        "    data = sales,\n",
        "    x = 'year_quarter',\n",
        "    y = 'total_revenue',\n",
        "    errorbar=None,\n",
        "    estimator='sum',\n",
        "    hue = 'Manager',\n",
        "    hue_order = sales.Manager.unique().tolist(),\n",
        "    palette = [sns.color_palette(\"bright\")[2], sns.color_palette(\"bright\")[1]],\n",
        "    ax = ax\n",
        ")\n",
        "# budget required per year and quarter\n",
        "sns.barplot(\n",
        "    data = salesperson_budget,\n",
        "    x = 'year_quarter',\n",
        "    y = 'budget_amount',\n",
        "    errorbar=None,\n",
        "    estimator='sum',\n",
        "    hue = 'Manager',\n",
        "    hue_order = sales.Manager.unique().tolist(),\n",
        "    alpha = .84,\n",
        "    palette = ['r', 'r'],\n",
        "    legend = False,\n",
        "    ax = ax\n",
        ")\n",
        "plt.title('Management Revenue Vs Budget in each Year and Quarter')\n",
        "lables = [str(i).replace(f\"{i}\", f'${i}M') for i in np.arange(0, 3, .5 )]\n",
        "plt.setp(ax, yticks=1000_000*np.arange(0, 3, .5 ), yticklabels=lables)\n",
        "plt.xlabel('')\n",
        "plt.ylabel('Total Revenue (M)');"
      ],
      "metadata": {
        "colab": {
          "base_uri": "https://localhost:8080/",
          "height": 488
        },
        "id": "AoPMgBHWLFa2",
        "outputId": "171a8008-4ffe-4558-f4c0-3ae629e5a359"
      },
      "execution_count": null,
      "outputs": [
        {
          "output_type": "display_data",
          "data": {
            "text/plain": [
              "<Figure size 1300x500 with 1 Axes>"
            ],
            "image/png": "[encoded data removed]"
          },
          "metadata": {}
        }
      ]
    },
    {
      "cell_type": "markdown",
      "source": [
        "* Gabriel and Victor have an interesting pattern, which is they are achieving the target in a quarter, and most likely the following quarter they don't meet the target"
      ],
      "metadata": {
        "id": "COcICyJlfS3q"
      }
    },
    {
      "cell_type": "markdown",
      "source": [
        "##### Supervisors Level"
      ],
      "metadata": {
        "id": "JJiOYY4jW0Xk"
      }
    },
    {
      "cell_type": "code",
      "source": [
        "# revenue per year\n",
        "fig , ax = plt.subplots(figsize=(13,5),ncols=1, sharex=True, sharey=True )\n",
        "\n",
        "sns.barplot(\n",
        "    data = sales,\n",
        "    x = 'year',\n",
        "    y = 'total_revenue',\n",
        "    errorbar=None,\n",
        "    estimator='sum',\n",
        "    hue = 'Supervisor',\n",
        "    hue_order = sales.Supervisor.unique().tolist(),\n",
        "    palette = ['lightblue', 'grey', 'blue', 'orange', 'yellow'],\n",
        "    ax = ax\n",
        ")\n",
        "# budget required per year\n",
        "sns.barplot(\n",
        "    data = salesperson_budget,\n",
        "    x = 'year',\n",
        "    y = 'budget_amount',\n",
        "    errorbar=None,\n",
        "    estimator='sum',\n",
        "    hue = 'Supervisor',\n",
        "    hue_order = sales.Supervisor.unique().tolist(),\n",
        "    alpha = .84,\n",
        "    palette = ['r'],\n",
        "    legend = False,\n",
        "    ax = ax\n",
        ")\n",
        "plt.title('Revenue Vs Budget in each Year per Supervisor')\n",
        "lables = [str(i).replace(f\"{i}\", f'${i}M') for i in np.arange(0, 5, 1 )]\n",
        "plt.setp(ax, yticks=1000_000*np.arange(0, 5, 1 ), yticklabels=lables)\n",
        "plt.xlabel('')\n",
        "plt.ylabel('Total Revenue (M)');"
      ],
      "metadata": {
        "colab": {
          "base_uri": "https://localhost:8080/",
          "height": 518
        },
        "id": "hqBTWYhbhI6K",
        "outputId": "f996ab87-1dc2-4025-8832-76ce4690c889"
      },
      "execution_count": null,
      "outputs": [
        {
          "output_type": "stream",
          "name": "stderr",
          "text": [
            "<ipython-input-428-f51921b32753>:16: UserWarning: \n",
            "The palette list has fewer values (1) than needed (5) and will cycle, which may produce an uninterpretable plot.\n",
            "  sns.barplot(\n"
          ]
        },
        {
          "output_type": "display_data",
          "data": {
            "text/plain": [
              "<Figure size 1300x500 with 1 Axes>"
            ],
            "image/png": "[encoded data removed]"
          },
          "metadata": {}
        }
      ]
    },
    {
      "cell_type": "code",
      "source": [
        "# revenue per year and quarter\n",
        "fig , ax = plt.subplots(figsize=(13,5),ncols=1, sharex=True, sharey=True )\n",
        "\n",
        "sns.barplot(\n",
        "    data = sales,\n",
        "    x = 'year_quarter',\n",
        "    y = 'total_revenue',\n",
        "    errorbar=None,\n",
        "    estimator='sum',\n",
        "    hue = 'Supervisor',\n",
        "    palette = ['lightblue', 'grey', 'blue', 'orange', 'yellow'],\n",
        "    ax = ax,\n",
        "    hue_order = sales.Supervisor.unique().tolist()\n",
        ")\n",
        "# budget required per year\n",
        "sns.barplot(\n",
        "    data = salesperson_budget,\n",
        "    x = 'year_quarter',\n",
        "    y = 'budget_amount',\n",
        "    errorbar=None,\n",
        "    estimator='sum',\n",
        "    hue = 'Supervisor',\n",
        "    alpha = .6,\n",
        "    palette = ['r'],\n",
        "    legend = False,\n",
        "    hue_order = sales.Supervisor.unique().tolist(),\n",
        "    ax = ax\n",
        ")\n",
        "plt.title('Revenue Vs Budget in each Year')\n",
        "lables = [str(i).replace(f\"{i}\", f'${i}M') for i in np.arange(0, 2, .5 )]\n",
        "plt.setp(ax, yticks=1000_000*np.arange(0, 2, .5 ), yticklabels=lables)\n",
        "plt.xlabel('')\n",
        "plt.ylabel('Total Revenue (M)');"
      ],
      "metadata": {
        "colab": {
          "base_uri": "https://localhost:8080/",
          "height": 513
        },
        "id": "zwBcisI8gZY7",
        "outputId": "aa0ec9d6-7a3f-4b00-d57c-eefffbc4ba4a"
      },
      "execution_count": null,
      "outputs": [
        {
          "output_type": "stream",
          "name": "stderr",
          "text": [
            "<ipython-input-316-9a5526d415c8>:16: UserWarning: \n",
            "The palette list has fewer values (1) than needed (5) and will cycle, which may produce an uninterpretable plot.\n",
            "  sns.barplot(\n"
          ]
        },
        {
          "output_type": "display_data",
          "data": {
            "text/plain": [
              "<Figure size 1300x500 with 1 Axes>"
            ],
            "image/png": "[encoded data removed]"
          },
          "metadata": {}
        }
      ]
    },
    {
      "cell_type": "markdown",
      "source": [
        "* Diogo Carvalho had nice achievements over each quarter except for 2020 q3 and 2021 q1\n",
        "\n",
        "* Diego Araujo had a few drops with the highest drop in 2019 q2 and q4 but he did catch up in most of his following quarters, his performance in the first quarter of 2020 was quite good\n",
        "\n",
        "* Fernando Silva joined around the third quarter of 2019, but his profile is almost fully positive\n",
        "\n",
        "* Sofia Ribeiro faced challenges in meeting budget targets across several quarters"
      ],
      "metadata": {
        "id": "pq0_yskR1ioX"
      }
    },
    {
      "cell_type": "markdown",
      "source": [
        "###### Investigate the sales employees under the supervision of (Sofia Ribeiro) to see if we can identify where the problem of not meeting the target comes from"
      ],
      "metadata": {
        "id": "LvjmZxswfF2i"
      }
    },
    {
      "cell_type": "code",
      "source": [
        "Sofia_budget = salesperson_budget.query('Supervisor == \"Sofia Ribeiro\"')\n",
        "Sofia_sales = sales.query('Supervisor == \"Sofia Ribeiro\"')"
      ],
      "metadata": {
        "id": "UntPGuabCNrc"
      },
      "execution_count": null,
      "outputs": []
    },
    {
      "cell_type": "code",
      "source": [
        "# revenue per year and quarter\n",
        "fig , ax = plt.subplots(figsize=(13,5),ncols=1, sharex=True, sharey=True )\n",
        "\n",
        "sns.barplot(\n",
        "    data = Sofia_sales,\n",
        "    x = 'year_quarter',\n",
        "    y = 'total_revenue',\n",
        "    errorbar=None,\n",
        "    estimator='sum',\n",
        "    hue = 'Salesperson',\n",
        "    palette = ['lightblue', 'grey', 'blue'],\n",
        "    ax = ax,\n",
        "    hue_order = Sofia_sales.Salesperson.unique().tolist()\n",
        ")\n",
        "# budget required per year and quarter\n",
        "sns.barplot(\n",
        "    data = Sofia_budget,\n",
        "    x = 'year_quarter',\n",
        "    y = 'budget_amount',\n",
        "    errorbar=None,\n",
        "    estimator='sum',\n",
        "    hue = 'Salesperson',\n",
        "    alpha = .6,\n",
        "    palette = ['r'],\n",
        "    legend = False,\n",
        "    hue_order = Sofia_budget.Salesperson.unique().tolist(),\n",
        "    ax = ax\n",
        ")\n",
        "plt.title('Revenue Vs Budget in each Year')\n",
        "lables = [str(i).replace(f\"{i}\", f'${i}M') for i in np.arange(0, 1, .5 )]\n",
        "plt.setp(ax, yticks=1000_000*np.arange(0, 1, .5 ), yticklabels=lables)\n",
        "plt.xlabel('')\n",
        "plt.ylabel('Total Revenue (M)');"
      ],
      "metadata": {
        "colab": {
          "base_uri": "https://localhost:8080/",
          "height": 513
        },
        "id": "5Fy7JqfA6ZwT",
        "outputId": "c02c0716-ccbd-4c3d-89aa-05a4cac6d758"
      },
      "execution_count": null,
      "outputs": [
        {
          "output_type": "stream",
          "name": "stderr",
          "text": [
            "<ipython-input-429-a4fd14a777c9>:16: UserWarning: \n",
            "The palette list has fewer values (1) than needed (3) and will cycle, which may produce an uninterpretable plot.\n",
            "  sns.barplot(\n"
          ]
        },
        {
          "output_type": "display_data",
          "data": {
            "text/plain": [
              "<Figure size 1300x500 with 1 Axes>"
            ],
            "image/png": "[encoded data removed]"
          },
          "metadata": {}
        }
      ]
    },
    {
      "cell_type": "markdown",
      "source": [
        "* Felipe Goncalves had a low performance across the quarters except for the third quarter in 2019\n",
        "\n",
        "* (Mateus Costa), and (Julia Silva) didn't have the best start, but they did perform quite well by the end of 2020"
      ],
      "metadata": {
        "id": "0gy0XWhg7iuw"
      }
    },
    {
      "cell_type": "markdown",
      "source": [
        "##### Who are the top 4 Salespeople based on revenue generated through all times?"
      ],
      "metadata": {
        "id": "52kXXraK-LbF"
      }
    },
    {
      "cell_type": "code",
      "source": [
        "salesperson_rank = (sales.groupby('Salesperson')\n",
        "                        .total_revenue\n",
        "                        .sum()\n",
        "                        .sort_values(ascending = False)\n",
        "                        .reset_index()\n",
        "                        )\n",
        "\n",
        "# contribution percent of the total revenue\n",
        "salesperson_rank['rev_percent'] = (\n",
        "    round(\n",
        "        (salesperson_rank.total_revenue / salesperson_rank.total_revenue.sum() * 100)\n",
        "        ,1\n",
        "        )\n",
        "    ).astype(str)+'%'\n",
        "\n",
        "\n",
        "top4 = salesperson_rank.head(4)\n",
        "\n",
        "plt.figure(figsize=(7, 3))\n",
        "ax = sns.barplot(\n",
        "    data = top4,\n",
        "    x = 'total_revenue',\n",
        "    y = 'Salesperson'\n",
        ")\n",
        "lables = [str(i).replace(f\"{i}\", f'${i}M') for i in np.arange(0, 7, 2 )]\n",
        "plt.setp(ax, xticks=1000_000*np.arange(0, 7, 2 ), xticklabels=lables)\n",
        "\n",
        "ax.bar_label(ax.containers[0], fontsize=13, labels =top4.rev_percent , padding = 2);\n",
        "\n",
        "plt.title('Top 4 Sales Employees')\n",
        "plt.ylabel('')\n",
        "plt.xlabel('Total Revenue');"
      ],
      "metadata": {
        "colab": {
          "base_uri": "https://localhost:8080/",
          "height": 333
        },
        "id": "_YNB9ipM-dBt",
        "outputId": "024ce717-911e-44fe-9300-4348c082824c"
      },
      "execution_count": null,
      "outputs": [
        {
          "output_type": "display_data",
          "data": {
            "text/plain": [
              "<Figure size 700x300 with 1 Axes>"
            ],
            "image/png": "[encoded data removed]"
          },
          "metadata": {}
        }
      ]
    },
    {
      "cell_type": "markdown",
      "source": [
        "##### Who are the bottom 4 Salespeople based on revenue generated?"
      ],
      "metadata": {
        "id": "w2lRrFxs-XAW"
      }
    },
    {
      "cell_type": "code",
      "source": [
        "bottom4 = salesperson_rank.tail(4).sort_values('total_revenue')\n",
        "\n",
        "plt.figure(figsize=(7, 3))\n",
        "ax = sns.barplot(\n",
        "    data = bottom4,\n",
        "    x = 'total_revenue',\n",
        "    y = 'Salesperson'\n",
        ")\n",
        "lables = [str(i).replace(f\"{i}\", f'${i}M') for i in np.arange(0, 7, 2 )]\n",
        "plt.setp(ax, xticks=1000_000*np.arange(0, 7, 2 ), xticklabels=lables)\n",
        "\n",
        "ax.bar_label(ax.containers[0], fontsize=13, labels =bottom4.rev_percent , padding = 2);\n",
        "\n",
        "plt.title('Bottom 4 Sales Employees')\n",
        "plt.ylabel('')\n",
        "plt.xlabel('Total Revenue');"
      ],
      "metadata": {
        "colab": {
          "base_uri": "https://localhost:8080/",
          "height": 333
        },
        "id": "QPMHzyJd9YCs",
        "outputId": "ffa8586a-d528-4eb3-dca6-b687962d5fef"
      },
      "execution_count": null,
      "outputs": [
        {
          "output_type": "display_data",
          "data": {
            "text/plain": [
              "<Figure size 700x300 with 1 Axes>"
            ],
            "image/png": "[encoded data removed]"
          },
          "metadata": {}
        }
      ]
    },
    {
      "cell_type": "markdown",
      "source": [
        "### Moving to Products"
      ],
      "metadata": {
        "id": "QwFQIt4j9cJ7"
      }
    },
    {
      "cell_type": "markdown",
      "source": [
        "#### What was the most ordered product category?"
      ],
      "metadata": {
        "id": "nhwHhq-BEabO"
      }
    },
    {
      "cell_type": "code",
      "source": [
        "sales_product = sales.merge(product, left_on = 'ProductKey', right_on = 'ID')\n",
        "sales_product.head(2)"
      ],
      "metadata": {
        "colab": {
          "base_uri": "https://localhost:8080/",
          "height": 167
        },
        "id": "ILd2wqoIEY2-",
        "outputId": "fac99171-ef6b-4016-bfb7-e475004fa3b1"
      },
      "execution_count": null,
      "outputs": [
        {
          "output_type": "execute_result",
          "data": {
            "text/plain": [
              "   OrderDate  OrderNumber  ProductKey  SalespersonKey       Salesperson  \\\n",
              "0 2019-01-12      1492762        1420             265        Julio Lima   \n",
              "1 2019-01-25      1498294        1420             196  Leonardo Cardoso   \n",
              "\n",
              "       Supervisor          Manager      Channel  Quantity  UnitPrice  \\\n",
              "0  Diogo Carvalho  Gabriel Azevedo  Distributor         6       4.44   \n",
              "1    Diego Araujo    Victor Castro       Retail        12       4.39   \n",
              "\n",
              "   total_revenue  year  quarter year_quarter    ID   ProductName  \\\n",
              "0          26.64  2019        1      2019_Q1  1420  Product 1420   \n",
              "1          52.68  2019        1      2019_Q1  1420  Product 1420   \n",
              "\n",
              "         ProductGroup ProductCategory  \n",
              "0  Coffee in Capsules            Food  \n",
              "1  Coffee in Capsules            Food  "
            ],
            "text/html": [
              "\n",
              "  <div id=\"df-f5f54a4a-5343-4946-b7a5-7e046c952543\" class=\"colab-df-container\">\n",
              "    <div>\n",
              "<style scoped>\n",
              "    .dataframe tbody tr th:only-of-type {\n",
              "        vertical-align: middle;\n",
              "    }\n",
              "\n",
              "    .dataframe tbody tr th {\n",
              "        vertical-align: top;\n",
              "    }\n",
              "\n",
              "    .dataframe thead th {\n",
              "        text-align: right;\n",
              "    }\n",
              "</style>\n",
              "<table border=\"1\" class=\"dataframe\">\n",
              "  <thead>\n",
              "    <tr style=\"text-align: right;\">\n",
              "      <th></th>\n",
              "      <th>OrderDate</th>\n",
              "      <th>OrderNumber</th>\n",
              "      <th>ProductKey</th>\n",
              "      <th>SalespersonKey</th>\n",
              "      <th>Salesperson</th>\n",
              "      <th>Supervisor</th>\n",
              "      <th>Manager</th>\n",
              "      <th>Channel</th>\n",
              "      <th>Quantity</th>\n",
              "      <th>UnitPrice</th>\n",
              "      <th>total_revenue</th>\n",
              "      <th>year</th>\n",
              "      <th>quarter</th>\n",
              "      <th>year_quarter</th>\n",
              "      <th>ID</th>\n",
              "      <th>ProductName</th>\n",
              "      <th>ProductGroup</th>\n",
              "      <th>ProductCategory</th>\n",
              "    </tr>\n",
              "  </thead>\n",
              "  <tbody>\n",
              "    <tr>\n",
              "      <th>0</th>\n",
              "      <td>2019-01-12</td>\n",
              "      <td>1492762</td>\n",
              "      <td>1420</td>\n",
              "      <td>265</td>\n",
              "      <td>Julio Lima</td>\n",
              "      <td>Diogo Carvalho</td>\n",
              "      <td>Gabriel Azevedo</td>\n",
              "      <td>Distributor</td>\n",
              "      <td>6</td>\n",
              "      <td>4.44</td>\n",
              "      <td>26.64</td>\n",
              "      <td>2019</td>\n",
              "      <td>1</td>\n",
              "      <td>2019_Q1</td>\n",
              "      <td>1420</td>\n",
              "      <td>Product 1420</td>\n",
              "      <td>Coffee in Capsules</td>\n",
              "      <td>Food</td>\n",
              "    </tr>\n",
              "    <tr>\n",
              "      <th>1</th>\n",
              "      <td>2019-01-25</td>\n",
              "      <td>1498294</td>\n",
              "      <td>1420</td>\n",
              "      <td>196</td>\n",
              "      <td>Leonardo Cardoso</td>\n",
              "      <td>Diego Araujo</td>\n",
              "      <td>Victor Castro</td>\n",
              "      <td>Retail</td>\n",
              "      <td>12</td>\n",
              "      <td>4.39</td>\n",
              "      <td>52.68</td>\n",
              "      <td>2019</td>\n",
              "      <td>1</td>\n",
              "      <td>2019_Q1</td>\n",
              "      <td>1420</td>\n",
              "      <td>Product 1420</td>\n",
              "      <td>Coffee in Capsules</td>\n",
              "      <td>Food</td>\n",
              "    </tr>\n",
              "  </tbody>\n",
              "</table>\n",
              "</div>\n",
              "    <div class=\"colab-df-buttons\">\n",
              "\n",
              "  <div class=\"colab-df-container\">\n",
              "    <button class=\"colab-df-convert\" onclick=\"convertToInteractive('df-f5f54a4a-5343-4946-b7a5-7e046c952543')\"\n",
              "            title=\"Convert this dataframe to an interactive table.\"\n",
              "            style=\"display:none;\">\n",
              "\n",
              "  <svg xmlns=\"http://www.w3.org/2000/svg\" height=\"24px\" viewBox=\"0 -960 960 960\">\n",
              "    <path d=\"M120-120v-720h720v720H120Zm60-500h600v-160H180v160Zm220 220h160v-160H400v160Zm0 220h160v-160H400v160ZM180-400h160v-160H180v160Zm440 0h160v-160H620v160ZM180-180h160v-160H180v160Zm440 0h160v-160H620v160Z\"/>\n",
              "  </svg>\n",
              "    </button>\n",
              "\n",
              "  <style>\n",
              "    .colab-df-container {\n",
              "      display:flex;\n",
              "      gap: 12px;\n",
              "    }\n",
              "\n",
              "    .colab-df-convert {\n",
              "      background-color: #E8F0FE;\n",
              "      border: none;\n",
              "      border-radius: 50%;\n",
              "      cursor: pointer;\n",
              "      display: none;\n",
              "      fill: #1967D2;\n",
              "      height: 32px;\n",
              "      padding: 0 0 0 0;\n",
              "      width: 32px;\n",
              "    }\n",
              "\n",
              "    .colab-df-convert:hover {\n",
              "      background-color: #E2EBFA;\n",
              "      box-shadow: 0px 1px 2px rgba(60, 64, 67, 0.3), 0px 1px 3px 1px rgba(60, 64, 67, 0.15);\n",
              "      fill: #174EA6;\n",
              "    }\n",
              "\n",
              "    .colab-df-buttons div {\n",
              "      margin-bottom: 4px;\n",
              "    }\n",
              "\n",
              "    [theme=dark] .colab-df-convert {\n",
              "      background-color: #3B4455;\n",
              "      fill: #D2E3FC;\n",
              "    }\n",
              "\n",
              "    [theme=dark] .colab-df-convert:hover {\n",
              "      background-color: #434B5C;\n",
              "      box-shadow: 0px 1px 3px 1px rgba(0, 0, 0, 0.15);\n",
              "      filter: drop-shadow(0px 1px 2px rgba(0, 0, 0, 0.3));\n",
              "      fill: #FFFFFF;\n",
              "    }\n",
              "  </style>\n",
              "\n",
              "    <script>\n",
              "      const buttonEl =\n",
              "        document.querySelector('#df-f5f54a4a-5343-4946-b7a5-7e046c952543 button.colab-df-convert');\n",
              "      buttonEl.style.display =\n",
              "        google.colab.kernel.accessAllowed ? 'block' : 'none';\n",
              "\n",
              "      async function convertToInteractive(key) {\n",
              "        const element = document.querySelector('#df-f5f54a4a-5343-4946-b7a5-7e046c952543');\n",
              "        const dataTable =\n",
              "          await google.colab.kernel.invokeFunction('convertToInteractive',\n",
              "                                                    [key], {});\n",
              "        if (!dataTable) return;\n",
              "\n",
              "        const docLinkHtml = 'Like what you see? Visit the ' +\n",
              "          '<a target=\"_blank\" href=https://colab.research.google.com/notebooks/data_table.ipynb>data table notebook</a>'\n",
              "          + ' to learn more about interactive tables.';\n",
              "        element.innerHTML = '';\n",
              "        dataTable['output_type'] = 'display_data';\n",
              "        await google.colab.output.renderOutput(dataTable, element);\n",
              "        const docLink = document.createElement('div');\n",
              "        docLink.innerHTML = docLinkHtml;\n",
              "        element.appendChild(docLink);\n",
              "      }\n",
              "    </script>\n",
              "  </div>\n",
              "\n",
              "\n",
              "<div id=\"df-d19c2c6e-aa02-4cec-996a-a5880df2b26b\">\n",
              "  <button class=\"colab-df-quickchart\" onclick=\"quickchart('df-d19c2c6e-aa02-4cec-996a-a5880df2b26b')\"\n",
              "            title=\"Suggest charts\"\n",
              "            style=\"display:none;\">\n",
              "\n",
              "<svg xmlns=\"http://www.w3.org/2000/svg\" height=\"24px\"viewBox=\"0 0 24 24\"\n",
              "     width=\"24px\">\n",
              "    <g>\n",
              "        <path d=\"M19 3H5c-1.1 0-2 .9-2 2v14c0 1.1.9 2 2 2h14c1.1 0 2-.9 2-2V5c0-1.1-.9-2-2-2zM9 17H7v-7h2v7zm4 0h-2V7h2v10zm4 0h-2v-4h2v4z\"/>\n",
              "    </g>\n",
              "</svg>\n",
              "  </button>\n",
              "\n",
              "<style>\n",
              "  .colab-df-quickchart {\n",
              "      --bg-color: #E8F0FE;\n",
              "      --fill-color: #1967D2;\n",
              "      --hover-bg-color: #E2EBFA;\n",
              "      --hover-fill-color: #174EA6;\n",
              "      --disabled-fill-color: #AAA;\n",
              "      --disabled-bg-color: #DDD;\n",
              "  }\n",
              "\n",
              "  [theme=dark] .colab-df-quickchart {\n",
              "      --bg-color: #3B4455;\n",
              "      --fill-color: #D2E3FC;\n",
              "      --hover-bg-color: #434B5C;\n",
              "      --hover-fill-color: #FFFFFF;\n",
              "      --disabled-bg-color: #3B4455;\n",
              "      --disabled-fill-color: #666;\n",
              "  }\n",
              "\n",
              "  .colab-df-quickchart {\n",
              "    background-color: var(--bg-color);\n",
              "    border: none;\n",
              "    border-radius: 50%;\n",
              "    cursor: pointer;\n",
              "    display: none;\n",
              "    fill: var(--fill-color);\n",
              "    height: 32px;\n",
              "    padding: 0;\n",
              "    width: 32px;\n",
              "  }\n",
              "\n",
              "  .colab-df-quickchart:hover {\n",
              "    background-color: var(--hover-bg-color);\n",
              "    box-shadow: 0 1px 2px rgba(60, 64, 67, 0.3), 0 1px 3px 1px rgba(60, 64, 67, 0.15);\n",
              "    fill: var(--button-hover-fill-color);\n",
              "  }\n",
              "\n",
              "  .colab-df-quickchart-complete:disabled,\n",
              "  .colab-df-quickchart-complete:disabled:hover {\n",
              "    background-color: var(--disabled-bg-color);\n",
              "    fill: var(--disabled-fill-color);\n",
              "    box-shadow: none;\n",
              "  }\n",
              "\n",
              "  .colab-df-spinner {\n",
              "    border: 2px solid var(--fill-color);\n",
              "    border-color: transparent;\n",
              "    border-bottom-color: var(--fill-color);\n",
              "    animation:\n",
              "      spin 1s steps(1) infinite;\n",
              "  }\n",
              "\n",
              "  @keyframes spin {\n",
              "    0% {\n",
              "      border-color: transparent;\n",
              "      border-bottom-color: var(--fill-color);\n",
              "      border-left-color: var(--fill-color);\n",
              "    }\n",
              "    20% {\n",
              "      border-color: transparent;\n",
              "      border-left-color: var(--fill-color);\n",
              "      border-top-color: var(--fill-color);\n",
              "    }\n",
              "    30% {\n",
              "      border-color: transparent;\n",
              "      border-left-color: var(--fill-color);\n",
              "      border-top-color: var(--fill-color);\n",
              "      border-right-color: var(--fill-color);\n",
              "    }\n",
              "    40% {\n",
              "      border-color: transparent;\n",
              "      border-right-color: var(--fill-color);\n",
              "      border-top-color: var(--fill-color);\n",
              "    }\n",
              "    60% {\n",
              "      border-color: transparent;\n",
              "      border-right-color: var(--fill-color);\n",
              "    }\n",
              "    80% {\n",
              "      border-color: transparent;\n",
              "      border-right-color: var(--fill-color);\n",
              "      border-bottom-color: var(--fill-color);\n",
              "    }\n",
              "    90% {\n",
              "      border-color: transparent;\n",
              "      border-bottom-color: var(--fill-color);\n",
              "    }\n",
              "  }\n",
              "</style>\n",
              "\n",
              "  <script>\n",
              "    async function quickchart(key) {\n",
              "      const quickchartButtonEl =\n",
              "        document.querySelector('#' + key + ' button');\n",
              "      quickchartButtonEl.disabled = true;  // To prevent multiple clicks.\n",
              "      quickchartButtonEl.classList.add('colab-df-spinner');\n",
              "      try {\n",
              "        const charts = await google.colab.kernel.invokeFunction(\n",
              "            'suggestCharts', [key], {});\n",
              "      } catch (error) {\n",
              "        console.error('Error during call to suggestCharts:', error);\n",
              "      }\n",
              "      quickchartButtonEl.classList.remove('colab-df-spinner');\n",
              "      quickchartButtonEl.classList.add('colab-df-quickchart-complete');\n",
              "    }\n",
              "    (() => {\n",
              "      let quickchartButtonEl =\n",
              "        document.querySelector('#df-d19c2c6e-aa02-4cec-996a-a5880df2b26b button');\n",
              "      quickchartButtonEl.style.display =\n",
              "        google.colab.kernel.accessAllowed ? 'block' : 'none';\n",
              "    })();\n",
              "  </script>\n",
              "</div>\n",
              "\n",
              "    </div>\n",
              "  </div>\n"
            ],
            "application/vnd.google.colaboratory.intrinsic+json": {
              "type": "dataframe",
              "variable_name": "sales_product"
            }
          },
          "metadata": {},
          "execution_count": 382
        }
      ]
    },
    {
      "cell_type": "code",
      "source": [
        "(sales_product.drop_duplicates(subset = ['OrderNumber', 'ProductCategory'])\n",
        "            .groupby(['ProductCategory'])\n",
        "            .OrderNumber.count()\n",
        "            .sort_values(ascending = False)\n",
        "            .plot(kind = 'bar')\n",
        "            );\n",
        "plt.title('Top Product Category')\n",
        "plt.ylabel('Ordere Number')\n",
        "plt.xlabel('');"
      ],
      "metadata": {
        "colab": {
          "base_uri": "https://localhost:8080/",
          "height": 475
        },
        "id": "khDbpiZnEhj2",
        "outputId": "3a1056e4-bbe2-4c21-97c5-d027ceedb9cf"
      },
      "execution_count": null,
      "outputs": [
        {
          "output_type": "display_data",
          "data": {
            "text/plain": [
              "<Figure size 640x480 with 1 Axes>"
            ],
            "image/png": "[encoded data removed]"
          },
          "metadata": {}
        }
      ]
    },
    {
      "cell_type": "markdown",
      "source": [
        "* It appears that the company is focused on food products as it is dominating the number of orders"
      ],
      "metadata": {
        "id": "dN_AKoyOHWhJ"
      }
    },
    {
      "cell_type": "markdown",
      "source": [
        "#### What are the top 10 product Groups based on quantity sold?"
      ],
      "metadata": {
        "id": "wQwoNnNr9oMc"
      }
    },
    {
      "cell_type": "code",
      "source": [
        "product_group_ranks = sales_product.groupby(['ProductGroup'], as_index = False).Quantity.sum().sort_values('Quantity' ,ascending = False)\n",
        "top10_prod_quantity = product_group_ranks.head(10)\n",
        "ax = sns.barplot(\n",
        "    data = top10_prod_quantity,\n",
        "    y = 'ProductGroup',\n",
        "    x = 'Quantity'\n",
        ")\n",
        "\n",
        "lables = [str(i).replace(f\"{i}\", f'${i}M') for i in np.arange(0, 2.5, .5 )]\n",
        "plt.setp(ax, xticks=1000_000*np.arange(0, 2.5, .5 ), xticklabels=lables)\n",
        "\n",
        "\n",
        "plt.title('Top 10 Product Groups based on Demand')\n",
        "plt.ylabel('')\n",
        "plt.xlabel('Quantity Sold');"
      ],
      "metadata": {
        "colab": {
          "base_uri": "https://localhost:8080/",
          "height": 472
        },
        "id": "um8A6Z1RIQDF",
        "outputId": "2cafbf9c-9f7c-41bc-8824-c89591ec2a99"
      },
      "execution_count": null,
      "outputs": [
        {
          "output_type": "display_data",
          "data": {
            "text/plain": [
              "<Figure size 640x480 with 1 Axes>"
            ],
            "image/png": "[encoded data removed]"
          },
          "metadata": {}
        }
      ]
    },
    {
      "cell_type": "markdown",
      "source": [
        "#### What was the Top 10 Product Groups based on revenue?"
      ],
      "metadata": {
        "id": "NAOdGJHoKEhH"
      }
    },
    {
      "cell_type": "code",
      "source": [
        "product_group_ranks = sales_product.groupby(['ProductGroup'], as_index = False).total_revenue.sum().sort_values('total_revenue' ,ascending = False)\n",
        "top10_prod_quantity = product_group_ranks.head(10)\n",
        "ax = sns.barplot(\n",
        "    data = top10_prod_quantity,\n",
        "    y = 'ProductGroup',\n",
        "    x = 'total_revenue'\n",
        ")\n",
        "\n",
        "lables = [str(i).replace(f\"{i}\", f'${i}M') for i in np.arange(0, 5, 1 )]\n",
        "plt.setp(ax, xticks=1000_000*np.arange(0, 5, 1 ), xticklabels=lables)\n",
        "\n",
        "\n",
        "plt.title('Top 10 Product Groups based on Revenue')\n",
        "plt.ylabel('')\n",
        "plt.xlabel('Total Revenue');"
      ],
      "metadata": {
        "colab": {
          "base_uri": "https://localhost:8080/",
          "height": 472
        },
        "id": "wDZe_U_0JrCF",
        "outputId": "2c6ea285-aaab-43fa-d908-ebf5d3d9a878"
      },
      "execution_count": null,
      "outputs": [
        {
          "output_type": "display_data",
          "data": {
            "text/plain": [
              "<Figure size 640x480 with 1 Axes>"
            ],
            "image/png": "[encoded data removed]"
          },
          "metadata": {}
        }
      ]
    },
    {
      "cell_type": "markdown",
      "source": [
        "* Wheat Flour, Oil, and Yeast are producing the highest amount of revenue."
      ],
      "metadata": {
        "id": "SBy-cB6GMmJM"
      }
    },
    {
      "cell_type": "markdown",
      "source": [
        "## Conclusion:\n",
        "\n",
        "* 2020 was a great year for revenue, and the company achieved the target budget at the end of the year.\n",
        "\n",
        "* 2021 q1 didn't meet expectations, so more responsibilities come in the upcoming quarters\n",
        "\n",
        "* The distributor channel has a decrement in revenue in the first quarter of 2021, which needs to be taken care of\n",
        "\n",
        "* The supervisor, Sofia needs to check her team's performance, specially Felipe Goncalves, also he is one of the top 4 best salespeople at generating revenue. He contributes with over 9% of the total revenue.\n",
        "\n",
        "* Carl Ferreira, Julio Lima, Gustavo Gomes, and Felipe Goncalves should have some honor to increase their productivity even more.\n",
        "\n",
        "* Check if the Drink product category can be improved by marketing the products"
      ],
      "metadata": {
        "id": "X_uXZQrBM7ad"
      }
    }
  ]
}